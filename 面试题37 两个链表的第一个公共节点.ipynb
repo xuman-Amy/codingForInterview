{
 "cells": [
  {
   "cell_type": "code",
   "execution_count": 2,
   "metadata": {},
   "outputs": [],
   "source": [
    "# -*- coding:utf-8 -*-\n",
    "# class ListNode:\n",
    "#     def __init__(self, x):\n",
    "#         self.val = x\n",
    "#         self.next = None\n",
    "class Solution:\n",
    "    def FindFirstCommonNode(self, pHead1, pHead2):\n",
    "\n",
    "        \n",
    "        len1 = self.getLength(pHead1)\n",
    "        len2 = self.getLength(pHead2)\n",
    "        \n",
    "        pheadlong = pHead1\n",
    "        pheadshort = pHead2\n",
    "        ndif = abs(len1 -len2)\n",
    "        \n",
    "        if len2 > len1:\n",
    "            pheadlong = pHead2\n",
    "            pheadshort = pHead1\n",
    "            \n",
    "        while ndif > 0:\n",
    "            pheadlong = pheadlong.next\n",
    "            ndif -= 1\n",
    "            \n",
    "        while (pheadlong != None )and (pheadshort != None) and (pheadlong != pheadshort):\n",
    "            pheadlong = pheadlong.next\n",
    "            pheadshort = pheadshort.next\n",
    "        pres = pheadlong\n",
    "        return pres\n",
    "        \n",
    "    def getLength(self,head):\n",
    "        length = 0\n",
    "        pnode = head\n",
    "        while pnode != None:\n",
    "            length += 1\n",
    "            pnode = pnode.next\n",
    "        return length\n",
    " "
   ]
  },
  {
   "cell_type": "code",
   "execution_count": 3,
   "metadata": {},
   "outputs": [],
   "source": [
    "class Solution:\n",
    "    def FindFirstCommonNode(self, pHead1, pHead2):\n",
    "        p1 = pHead1\n",
    "        p2 = pHead2\n",
    "        while p1 != p2:\n",
    "            p1 = p1.next if p1 != None else pHead2\n",
    "            p2 = p2.next if p2 != None else pHead1\n",
    "        return p1"
   ]
  },
  {
   "cell_type": "code",
   "execution_count": null,
   "metadata": {},
   "outputs": [],
   "source": []
  }
 ],
 "metadata": {
  "kernelspec": {
   "display_name": "Python 3",
   "language": "python",
   "name": "python3"
  },
  "language_info": {
   "codemirror_mode": {
    "name": "ipython",
    "version": 3
   },
   "file_extension": ".py",
   "mimetype": "text/x-python",
   "name": "python",
   "nbconvert_exporter": "python",
   "pygments_lexer": "ipython3",
   "version": "3.6.4"
  }
 },
 "nbformat": 4,
 "nbformat_minor": 2
}
