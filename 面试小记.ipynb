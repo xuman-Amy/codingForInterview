{
 "cells": [
  {
   "cell_type": "markdown",
   "metadata": {},
   "source": [
    "### 快排找出第K大数"
   ]
  },
  {
   "cell_type": "code",
   "execution_count": 1,
   "metadata": {},
   "outputs": [],
   "source": [
    "class FindKthNum():\n",
    "    def Partition(self, nums, left, right):\n",
    "        pivot = left\n",
    "        index = pivot+1\n",
    "        i = index\n",
    "        while i <= right:\n",
    "            if nums[i] > nums[pivot]:\n",
    "                nums[i], nums[index] = nums[index], nums[i]\n",
    "                index += 1\n",
    "            i += 1\n",
    "        nums[pivot], nums[index-1] = nums[index-1], nums[pivot]\n",
    "        return index - 1\n",
    "        \n",
    "    def findKthLargest(self, nums, k, left = None, right = None):\n",
    "        left = 0 if not isinstance(left, (int,float)) else left\n",
    "        right  = len(nums)-1 if not isinstance(right, (int, float)) else right\n",
    "#         print(left, right)\n",
    "        index = self.Partition(nums, left, right)\n",
    "        val = k-1\n",
    "        if index == val :\n",
    "            return nums[index]\n",
    "        if index < val :\n",
    "            self.findKthLargest(nums, k, index+1,right)\n",
    "        else:\n",
    "            self.findKthLargest(nums, k, left, index-1)"
   ]
  },
  {
   "cell_type": "code",
   "execution_count": 19,
   "metadata": {},
   "outputs": [
    {
     "data": {
      "text/plain": [
       "4"
      ]
     },
     "execution_count": 19,
     "metadata": {},
     "output_type": "execute_result"
    }
   ],
   "source": [
    "class Solution(object):\n",
    "    def findKthLargest(self, nums, k):\n",
    "        pivot = nums[0]\n",
    "        left = 0\n",
    "        right = len(nums)-1\n",
    "        while True:\n",
    "            pos = self.partition(nums, left, right)\n",
    "            if pos == k-1:\n",
    "                return nums[pos]\n",
    "            if pos < k-1:\n",
    "                left = pos+ 1\n",
    "            else: right = pos- 1\n",
    "        \n",
    "#         将数组分为三部分，取左边第一个为pivot，大于pivot的放在左边，小于它的放在右边\n",
    "    def partition(self, nums, begin, end):\n",
    "        left = begin +1\n",
    "        right = end\n",
    "        while left <= right:\n",
    "            if nums[left] < nums[begin] and nums[right] > nums[begin]:\n",
    "                nums[left],nums[right] = nums[right],nums[left]\n",
    "            if nums[left] >= nums[begin]: left += 1\n",
    "            if nums[right] <= nums[begin]: right -= 1\n",
    "        nums[begin], nums[right] = nums[right],nums[begin]\n",
    "        return right\n",
    "    \n",
    "nums = [3,2,3,1,2,4,5,5,6]\n",
    "k = 4\n",
    "Solution().findKthLargest(nums,k)\n",
    "\n"
   ]
  },
  {
   "cell_type": "markdown",
   "metadata": {},
   "source": [
    "## 最大堆寻找第K大数\n",
    "最大堆输出从小到大"
   ]
  },
  {
   "cell_type": "code",
   "execution_count": 6,
   "metadata": {},
   "outputs": [
    {
     "name": "stdout",
     "output_type": "stream",
     "text": [
      "kth largest num is [42, 21, 25, 16, 20, 59, 83]\n"
     ]
    }
   ],
   "source": [
    "class FindKthLargestNum_maxHeap():\n",
    "    def buildHeap(self,nums):\n",
    "        if nums == []:\n",
    "            return None\n",
    "        size = len(nums)\n",
    "        for i in range(size//2-1, -1,-1):\n",
    "            self.shiftdown(nums, i, size)\n",
    "        return nums\n",
    "\n",
    "    def shiftdown(self, nums, i, size):\n",
    "        left = 2*i +1\n",
    "        right = 2*i +2\n",
    "        maxIndex = i\n",
    "        if left < size and nums[left] > nums[maxIndex]:\n",
    "            maxIndex = left\n",
    "        if right < size and nums[right] > nums[maxIndex]:\n",
    "            maxIndex = right\n",
    "        if maxIndex != i:\n",
    "            nums[maxIndex], nums[i] = nums[i], nums[maxIndex]\n",
    "            self.shiftdown(nums, maxIndex,size)\n",
    "        return nums\n",
    "\n",
    "    def findKthLargestNum(self,nums, k):\n",
    "        self.buildHeap(nums)\n",
    "        for i in range(len(nums)-1, len(nums)-k, -1):\n",
    "            nums[i] , nums[0] = nums[0], nums[i]\n",
    "            self.shiftdown(nums, 0, i)\n",
    "        return nums\n",
    "if __name__ == '__main__':\n",
    "    a = [21,42,59,83,20,25,16]\n",
    "    k = 3\n",
    "    res = FindKthLargestNum_maxHeap().findKthLargestNum(a, k)\n",
    "    print('kth largest num is',res)"
   ]
  },
  {
   "cell_type": "markdown",
   "metadata": {},
   "source": [
    "### 最小堆找第K 大数\n"
   ]
  },
  {
   "cell_type": "code",
   "execution_count": 60,
   "metadata": {},
   "outputs": [
    {
     "name": "stdout",
     "output_type": "stream",
     "text": [
      "6 [16, 20, 21, 83, 42, 25, 59]\n",
      "5 [20, 42, 21, 83, 59, 25, 16]\n",
      "4 [21, 42, 25, 83, 59, 20, 16]\n",
      "kth largest num is 25\n"
     ]
    }
   ],
   "source": [
    "class FindKthLargestNum_maxHeap():\n",
    "    def buildHeap(self,nums):\n",
    "        if nums == []:\n",
    "            return None\n",
    "        size = len(nums)\n",
    "        for i in range(size//2-1, -1,-1):\n",
    "            self.shiftdown(nums, i, size)\n",
    "        return nums\n",
    "\n",
    "    def shiftdown(self, nums, i, size):\n",
    "        left = 2*i +1\n",
    "        right = 2*i +2\n",
    "        minIndex = i\n",
    "        if left < size and nums[left] < nums[minIndex]:\n",
    "            minIndex = left\n",
    "        if right < size and nums[right] < nums[minIndex]:\n",
    "            minIndex = right\n",
    "        if minIndex != i:\n",
    "            nums[minIndex], nums[i] = nums[i], nums[minIndex]\n",
    "            self.shiftdown(nums, minIndex,size)\n",
    "        return nums\n",
    "\n",
    "    def findKthLargestNum(self,nums, k):\n",
    "        self.buildHeap(nums)\n",
    "        for i in range(len(nums)-1, k-1, -1):\n",
    "            print(i,nums)\n",
    "            nums[i] , nums[0] = nums[0], nums[i]\n",
    "            self.shiftdown(nums, 0, i)\n",
    "        return nums[0]\n",
    "if __name__ == '__main__':\n",
    "    a = [21,42,59,83,20,25,16]\n",
    "    k = 4\n",
    "    res = FindKthLargestNum_maxHeap().findKthLargestNum(a, k)\n",
    "    print('kth largest num is',res)"
   ]
  },
  {
   "cell_type": "code",
   "execution_count": null,
   "metadata": {},
   "outputs": [],
   "source": []
  },
  {
   "cell_type": "code",
   "execution_count": null,
   "metadata": {},
   "outputs": [],
   "source": [
    "\n"
   ]
  }
 ],
 "metadata": {
  "kernelspec": {
   "display_name": "Python 3",
   "language": "python",
   "name": "python3"
  },
  "language_info": {
   "codemirror_mode": {
    "name": "ipython",
    "version": 3
   },
   "file_extension": ".py",
   "mimetype": "text/x-python",
   "name": "python",
   "nbconvert_exporter": "python",
   "pygments_lexer": "ipython3",
   "version": "3.6.4"
  }
 },
 "nbformat": 4,
 "nbformat_minor": 2
}
