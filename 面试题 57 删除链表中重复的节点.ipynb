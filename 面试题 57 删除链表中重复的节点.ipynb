{
 "cells": [
  {
   "cell_type": "code",
   "execution_count": 1,
   "metadata": {},
   "outputs": [],
   "source": [
    "# -*- coding:utf-8 -*-\n",
    "# class ListNode:\n",
    "#     def __init__(self, x):\n",
    "#         self.val = x\n",
    "#         self.next = None\n",
    "class Solution:\n",
    "    def __del__(self, node):\n",
    "        node.next = None\n",
    "        node.val = None\n",
    "        return \n",
    "    def deleteDuplication(self, pHead):\n",
    "        # write code here\n",
    "        if pHead == None or pHead.next == None:\n",
    "            return pHead\n",
    "        pre = ListNode(0)\n",
    "        pre.next = pHead\n",
    "        post = pre\n",
    "        nownode = pHead\n",
    "        while nownode and nownode.next:\n",
    "            if nownode.next.val != nownode.val:\n",
    "                nownode = nownode.next\n",
    "                post = post.next\n",
    "            else:\n",
    "                val = nownode.val\n",
    "                while nownode and nownode.val == val:\n",
    "                    nownode = nownode.next\n",
    "                post.next = nownode\n",
    "        return pre.next\n"
   ]
  },
  {
   "cell_type": "code",
   "execution_count": null,
   "metadata": {},
   "outputs": [],
   "source": []
  }
 ],
 "metadata": {
  "kernelspec": {
   "display_name": "Python 3",
   "language": "python",
   "name": "python3"
  },
  "language_info": {
   "codemirror_mode": {
    "name": "ipython",
    "version": 3
   },
   "file_extension": ".py",
   "mimetype": "text/x-python",
   "name": "python",
   "nbconvert_exporter": "python",
   "pygments_lexer": "ipython3",
   "version": "3.6.4"
  }
 },
 "nbformat": 4,
 "nbformat_minor": 2
}
