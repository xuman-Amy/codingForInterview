{
 "cells": [
  {
   "cell_type": "code",
   "execution_count": 18,
   "metadata": {},
   "outputs": [
    {
     "data": {
      "text/plain": [
       "'12345'"
      ]
     },
     "execution_count": 18,
     "metadata": {},
     "output_type": "execute_result"
    }
   ],
   "source": [
    "class Solution:\n",
    "    def PrintMinNumber(self, numbers):\n",
    "        res = []\n",
    "        if numbers == []:\n",
    "            return \"\"\n",
    "        self.Perm(numbers,res,'')\n",
    "        res = [int(x) for x in list(set(res))]\n",
    "        return str(min(res))\n",
    "    def Perm(self, ss, res, path):\n",
    "        if ss == []:\n",
    "            res.append(path)\n",
    "        else:\n",
    "            for i in range(len(ss)):\n",
    "                self.Perm(ss[:i] + ss[i+1:], res, path+str(ss[i]) )\n",
    "    \n",
    "ss = ['1','2','3','4','5']\n",
    "Solution().PrintMinNumber(ss)"
   ]
  },
  {
   "cell_type": "markdown",
   "metadata": {},
   "source": [
    "python3 中 sorted函数改变，没有cmp函数\n",
    "\n",
    "此题 先把nums按照字符串相加后的比较结果排序，然后"
   ]
  },
  {
   "cell_type": "code",
   "execution_count": 54,
   "metadata": {},
   "outputs": [
    {
     "data": {
      "text/plain": [
       "'1234'"
      ]
     },
     "execution_count": 54,
     "metadata": {},
     "output_type": "execute_result"
    }
   ],
   "source": [
    "import functools\n",
    "class Solution:\n",
    "    def PrintMinNumber(self, numbers):\n",
    "        def cmp(str1,str2):\n",
    "            return (operator.eq ((str1 + str2),(str2 + str1)))\n",
    "        nums = [str(n) for n in numbers]\n",
    "        res = sorted(nums,key = functools.cmp_to_key(cmp))\n",
    "        return ''.join(res)\n",
    "\n",
    "ss = [1,2,3,4]\n",
    "Solution().PrintMinNumber(ss)"
   ]
  },
  {
   "cell_type": "code",
   "execution_count": null,
   "metadata": {},
   "outputs": [],
   "source": []
  }
 ],
 "metadata": {
  "kernelspec": {
   "display_name": "Python 3",
   "language": "python",
   "name": "python3"
  },
  "language_info": {
   "codemirror_mode": {
    "name": "ipython",
    "version": 3
   },
   "file_extension": ".py",
   "mimetype": "text/x-python",
   "name": "python",
   "nbconvert_exporter": "python",
   "pygments_lexer": "ipython3",
   "version": "3.6.4"
  }
 },
 "nbformat": 4,
 "nbformat_minor": 2
}
