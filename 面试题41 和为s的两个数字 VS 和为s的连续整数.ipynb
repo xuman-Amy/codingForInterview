{
 "cells": [
  {
   "cell_type": "code",
   "execution_count": 18,
   "metadata": {},
   "outputs": [
    {
     "data": {
      "text/plain": [
       "[4, 11]"
      ]
     },
     "execution_count": 18,
     "metadata": {},
     "output_type": "execute_result"
    }
   ],
   "source": [
    "# -*- coding:utf-8 -*-\n",
    "class Solution:\n",
    "    def FindNumbersWithSum(self, array, tsum):\n",
    "        if array == []:\n",
    "            return []\n",
    "        left = 0\n",
    "        right = len(array) -1\n",
    "        res = []\n",
    "        minNum = array[-1] ** 2\n",
    "        while left < right:\n",
    "            cursum =  array[left] + array[right]\n",
    "            if  cursum == tsum:\n",
    "                if array[left]*array[right] < minNum:\n",
    "                    res= [array[left],array[right]]\n",
    "                    minNum = array[left]*array[right]\n",
    "                left += 1\n",
    "                right -= 1\n",
    "            elif cursum <tsum:\n",
    "                left += 1\n",
    "            else:\n",
    "                right -= 1\n",
    "        return res\n",
    "nums = [1,2,4,7,11]\n",
    "Solution().FindNumbersWithSum(nums,15)"
   ]
  },
  {
   "cell_type": "code",
   "execution_count": 9,
   "metadata": {},
   "outputs": [
    {
     "data": {
      "text/plain": [
       "[[2, 3, 4], [4, 5]]"
      ]
     },
     "execution_count": 9,
     "metadata": {},
     "output_type": "execute_result"
    }
   ],
   "source": [
    "class Solution:\n",
    "    def FindContinuousSequence(self,  tsum):\n",
    "        if tsum < 3:\n",
    "            return []\n",
    "        small = 1\n",
    "        big = 2\n",
    "        cursum = small + big\n",
    "        mid = (tsum+1) // 2\n",
    "        \n",
    "        ret = []\n",
    "        while small < mid:\n",
    "            \n",
    "            if cursum == tsum:\n",
    "                res = []\n",
    "                for x in range(small, big+1):\n",
    "                    res.append(x)  \n",
    "                ret.append(res) \n",
    "                big += 1\n",
    "                cursum += big\n",
    "            elif cursum > tsum:\n",
    "                cursum -= small\n",
    "                small += 1\n",
    "            elif cursum < tsum:\n",
    "                big += 1\n",
    "                cursum += big\n",
    "        return ret\n",
    "Solution().FindContinuousSequence(9)"
   ]
  },
  {
   "cell_type": "code",
   "execution_count": null,
   "metadata": {},
   "outputs": [],
   "source": []
  }
 ],
 "metadata": {
  "kernelspec": {
   "display_name": "Python 3",
   "language": "python",
   "name": "python3"
  },
  "language_info": {
   "codemirror_mode": {
    "name": "ipython",
    "version": 3
   },
   "file_extension": ".py",
   "mimetype": "text/x-python",
   "name": "python",
   "nbconvert_exporter": "python",
   "pygments_lexer": "ipython3",
   "version": "3.6.4"
  }
 },
 "nbformat": 4,
 "nbformat_minor": 2
}
