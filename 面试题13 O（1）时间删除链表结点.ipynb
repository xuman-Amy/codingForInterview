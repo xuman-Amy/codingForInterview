{
 "cells": [
  {
   "cell_type": "code",
   "execution_count": null,
   "metadata": {},
   "outputs": [],
   "source": [
    "class ListNode(object):\n",
    "    def __init__(self, x):\n",
    "        self.val = x\n",
    "        self.next = None\n",
    "    def __del__(self):\n",
    "        self.val = None\n",
    "        self.next = None\n",
    "class DeleteNode(object):\n",
    "        \n",
    "    def deleteNode(self, head, tobedeleteNode):\n",
    "        if head == None or tobedeleteNode == None:\n",
    "            return None\n",
    "#         要删除的不是尾结点\n",
    "        if tobedeleteNode.next != None:\n",
    "            deleteNext = tobedeleteNode.next\n",
    "            tobedeleteNode.val = deleteNext.val\n",
    "            tobedeleteNode.next = deleteNext.next\n",
    "            deleteNext.__del__()\n",
    "#         链表只有一个结点\n",
    "        elif tobedeleteNode == head:\n",
    "            tobedeleteNode.__del__()\n",
    "            head = None\n",
    "#         链表有多个结点，删除的是尾结点，传统遍历方法\n",
    "        else:\n",
    "            node = head\n",
    "            while(node.next != tobedeleteNode):\n",
    "                node = node.next\n",
    "            node.next = None\n",
    "            tobedeleteNode.__del__()\n",
    "            "
   ]
  }
 ],
 "metadata": {
  "kernelspec": {
   "display_name": "Python 3",
   "language": "python",
   "name": "python3"
  },
  "language_info": {
   "codemirror_mode": {
    "name": "ipython",
    "version": 3
   },
   "file_extension": ".py",
   "mimetype": "text/x-python",
   "name": "python",
   "nbconvert_exporter": "python",
   "pygments_lexer": "ipython3",
   "version": "3.6.4"
  }
 },
 "nbformat": 4,
 "nbformat_minor": 2
}
