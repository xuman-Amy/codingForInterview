{
 "cells": [
  {
   "cell_type": "markdown",
   "metadata": {},
   "source": [
    "存在一个deepcopy和copy的关系\n",
    "deepcopy作为一个完全独立的新个体\n",
    "等于赋值只是打上一个新的标签\n",
    "copy分情况\n",
    "\n",
    "当对象时不可变对象（数值，字符串，元组）：\n",
    "\n"
   ]
  },
  {
   "cell_type": "code",
   "execution_count": 26,
   "metadata": {},
   "outputs": [
    {
     "name": "stdout",
     "output_type": "stream",
     "text": [
      "origin s 1055004445472\n",
      "deepcopy s1 1055004445472\n",
      "copy s3 1055004445472\n"
     ]
    }
   ],
   "source": [
    "# 当对象时不可变对象（数值，字符串，元组）：\n",
    "s = '1234'\n",
    "s1 = copy.deepcopy(s)\n",
    "s2 = s\n",
    "s3 = copy.copy(s)\n",
    "print('origin s',id(s))\n",
    "print('deepcopy s1', id(s1))\n",
    "print('copy s3',id(s3))\n",
    "\n"
   ]
  },
  {
   "cell_type": "code",
   "execution_count": 28,
   "metadata": {},
   "outputs": [
    {
     "name": "stdout",
     "output_type": "stream",
     "text": [
      "1234 1234 1234\n"
     ]
    }
   ],
   "source": [
    "s = '12345'\n",
    "print(s1, s2, s3)"
   ]
  },
  {
   "cell_type": "code",
   "execution_count": 10,
   "metadata": {},
   "outputs": [
    {
     "data": {
      "text/plain": [
       "7"
      ]
     },
     "execution_count": 10,
     "metadata": {},
     "output_type": "execute_result"
    }
   ],
   "source": [
    "# -*- coding:utf-8 -*-\n",
    "import copy\n",
    "class Solution:\n",
    "    def InversePairs(self, data):\n",
    "        if not data:\n",
    "            return 0\n",
    "        temp = copy.deepcopy(data)\n",
    "        return (self.InversePairsHelper(data, temp, 0, len(data)-1))%1000000007\n",
    "\n",
    "    def InversePairsHelper(self, data, temp, begin, end):\n",
    "        if begin == end:\n",
    "            return 0\n",
    "        mid = (begin + end) //2\n",
    "        left = self.InversePairsHelper(data, temp, begin, mid)\n",
    "        right = self.InversePairsHelper(data, temp, mid+1, end)\n",
    "        \n",
    "        i = mid\n",
    "        j = end\n",
    "        indexCopy = end\n",
    "        count = 0\n",
    "        while i >= begin and j > mid:\n",
    "            if data[i] > data[j]:\n",
    "                temp[indexCopy] = data[i]  \n",
    "                count += j-mid\n",
    "                indexCopy -= 1\n",
    "                i -= 1\n",
    "            else:\n",
    "                temp[indexCopy] = data[j]\n",
    "                indexCopy -= 1\n",
    "                j -= 1\n",
    "        while i >= begin:\n",
    "            temp[indexCopy] = data[i]\n",
    "            i -= 1\n",
    "            indexCopy -= 1\n",
    "        while j > mid:\n",
    "            temp[indexCopy] = data[j]\n",
    "            indexCopy -= 1\n",
    "            j -= 1\n",
    "        s = begin\n",
    "        while s <= end:\n",
    "            data[s] = temp[s]\n",
    "            s += 1\n",
    "        return left + right + count\n",
    "nums = [1,2,3,4,5,6,7,0]\n",
    "Solution().InversePairs(nums)"
   ]
  },
  {
   "cell_type": "code",
   "execution_count": null,
   "metadata": {},
   "outputs": [],
   "source": []
  }
 ],
 "metadata": {
  "kernelspec": {
   "display_name": "Python 3",
   "language": "python",
   "name": "python3"
  }
 },
 "nbformat": 4,
 "nbformat_minor": 2
}
