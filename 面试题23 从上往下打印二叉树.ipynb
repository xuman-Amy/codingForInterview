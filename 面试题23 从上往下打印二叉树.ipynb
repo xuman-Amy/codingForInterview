{
 "cells": [
  {
   "cell_type": "code",
   "execution_count": null,
   "metadata": {},
   "outputs": [],
   "source": []
  },
  {
   "cell_type": "code",
   "execution_count": 1,
   "metadata": {},
   "outputs": [],
   "source": [
    "# -*- coding:utf-8 -*-\n",
    "# class TreeNode:\n",
    "#     def __init__(self, x):\n",
    "#         self.val = x\n",
    "#         self.left = None\n",
    "#         self.right = None\n",
    "class Solution:\n",
    "    # 返回从上到下每个节点值列表，例：[1,2,3]\n",
    "    def PrintFromTopToBottom(self, root):\n",
    "        # write code here\n",
    "        if root == None:\n",
    "            return []\n",
    "        stack = [root]\n",
    "        ans = []\n",
    "        while stack:\n",
    "            nowNode = stack.pop(0)\n",
    "            ans.append(nowNode.val)\n",
    "            if nowNode.left:\n",
    "                stack.append(nowNode.left)\n",
    "            if nowNode.right:\n",
    "                stack.append(nowNode.right)\n",
    "        return ans"
   ]
  },
  {
   "cell_type": "markdown",
   "metadata": {},
   "source": [
    "### leetcode  #102"
   ]
  },
  {
   "cell_type": "code",
   "execution_count": 4,
   "metadata": {},
   "outputs": [],
   "source": [
    "# Definition for a binary tree node.\n",
    "# class TreeNode(object):\n",
    "#     def __init__(self, x):\n",
    "#         self.val = x\n",
    "#         self.left = None\n",
    "#         self.right = None\n",
    "\n",
    "class Solution(object):\n",
    "    def levelOrder(self, root):\n",
    "        \"\"\"\n",
    "        :type root: TreeNode\n",
    "        :rtype: List[List[int]]\n",
    "        \"\"\"\n",
    "        if root == None:\n",
    "            return []\n",
    "        stack = [root]\n",
    "        ans = []\n",
    "        while stack:\n",
    "            curr = []\n",
    "            size = len(stack)\n",
    "            for i in range(size):\n",
    "                nowNode = stack.pop(0)\n",
    "                curr.append(nowNode.val)\n",
    "                if nowNode.left:\n",
    "                    stack.append(nowNode.left)\n",
    "                if nowNode.right:\n",
    "                    stack.append(nowNode.right)\n",
    "            ans.append(curr)  \n",
    "        return ans\n",
    "        "
   ]
  },
  {
   "cell_type": "code",
   "execution_count": 5,
   "metadata": {},
   "outputs": [],
   "source": [
    "# Definition for a binary tree node.\n",
    "# class TreeNode(object):\n",
    "#     def __init__(self, x):\n",
    "#         self.val = x\n",
    "#         self.left = None\n",
    "#         self.right = None\n",
    "\n",
    "class Solution(object):\n",
    "    def isValidBST(self, root):\n",
    "        \"\"\"\n",
    "        :type root: TreeNode\n",
    "        :rtype: bool\n",
    "        \"\"\"\n",
    "        if root == None:\n",
    "            return False\n",
    "        return self.isValidBST(root) and self.isValidBST(root.left) and self.isValidBST(root.right)\n",
    "        def valid(root):\n",
    "            if root.left.val < root.val and root.right.val > root.val:\n",
    "                return True\n",
    "        "
   ]
  },
  {
   "cell_type": "code",
   "execution_count": null,
   "metadata": {},
   "outputs": [],
   "source": []
  }
 ],
 "metadata": {
  "kernelspec": {
   "display_name": "Python 3",
   "language": "python",
   "name": "python3"
  },
  "language_info": {
   "codemirror_mode": {
    "name": "ipython",
    "version": 3
   },
   "file_extension": ".py",
   "mimetype": "text/x-python",
   "name": "python",
   "nbconvert_exporter": "python",
   "pygments_lexer": "ipython3",
   "version": "3.6.4"
  }
 },
 "nbformat": 4,
 "nbformat_minor": 2
}
