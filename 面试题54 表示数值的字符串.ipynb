{
 "cells": [
  {
   "cell_type": "code",
   "execution_count": 78,
   "metadata": {},
   "outputs": [
    {
     "name": "stdout",
     "output_type": "stream",
     "text": [
      "1500e 5\n"
     ]
    },
    {
     "data": {
      "text/plain": [
       "False"
      ]
     },
     "execution_count": 78,
     "metadata": {},
     "output_type": "execute_result"
    }
   ],
   "source": [
    "# -*- coding:utf-8 -*-\n",
    "class Solution:\n",
    "    # s字符串\n",
    "    def __init__(self):\n",
    "        self.idx = 0\n",
    "        self.sign = ['+', '-']\n",
    "        self.expo = ['e', 'E']\n",
    "    def isNumeric(self, s):\n",
    "        # write code here\n",
    "        if s == '':\n",
    "            return False\n",
    "        if s[0] in self.sign:\n",
    "            s = s[1:]\n",
    "        self.idx = self.scan_string(s)\n",
    "#         print(self.idx,len(s))\n",
    "        res = True\n",
    "        if self.idx < len(s):\n",
    "            if s[self.idx] == '.':\n",
    "                self.idx += 1\n",
    "                self.idx = self.scan_string(s)\n",
    "                if (self.idx) == len(s):\n",
    "                    return True\n",
    "                if s[self.idx] in self.expo:\n",
    "                    res = self.is_exponential(s)\n",
    "            elif s[self.idx] in self.expo:\n",
    "                res = self.is_exponential(s)\n",
    "            else:\n",
    "                res = False\n",
    "        return res and self.idx == len(s)\n",
    "                \n",
    "        \n",
    "    def scan_string(self, s):\n",
    "        while self.idx < len(s):\n",
    "            if s[self.idx] >= '0' and s[self.idx] <= '9':\n",
    "#                 print(self.idx, s)\n",
    "                self.idx += 1\n",
    "            else:\n",
    "                break\n",
    "        return self.idx \n",
    "    \n",
    "    def is_exponential(self, s):\n",
    "        if s[self.idx] not in self.expo:\n",
    "            return False\n",
    "        self.idx += 1\n",
    "        print(s, self.idx)\n",
    "        if self.idx == len(s):\n",
    "            return False\n",
    "        if s[self.idx] in self.sign:\n",
    "            self.idx += 1\n",
    "\n",
    "        self.idx = self.scan_string(s)\n",
    "        return True if self.idx == len(s) else False\n",
    "Solution().isNumeric('+1500e')"
   ]
  },
  {
   "cell_type": "code",
   "execution_count": null,
   "metadata": {},
   "outputs": [],
   "source": []
  }
 ],
 "metadata": {
  "kernelspec": {
   "display_name": "Python 3",
   "language": "python",
   "name": "python3"
  },
  "language_info": {
   "codemirror_mode": {
    "name": "ipython",
    "version": 3
   },
   "file_extension": ".py",
   "mimetype": "text/x-python",
   "name": "python",
   "nbconvert_exporter": "python",
   "pygments_lexer": "ipython3",
   "version": "3.6.4"
  }
 },
 "nbformat": 4,
 "nbformat_minor": 2
}
