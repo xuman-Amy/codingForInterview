{
 "cells": [
  {
   "cell_type": "code",
   "execution_count": 5,
   "metadata": {},
   "outputs": [],
   "source": [
    "# -*- coding:utf-8 -*-\n",
    "class Solution:\n",
    "    def VerifySquenceOfBST(self, sequence):\n",
    "        # write code here\n",
    "        if sequence == []:\n",
    "            return False\n",
    "        length = len(sequence)\n",
    "        if length == 1:\n",
    "            return True\n",
    "        root = sequence[-1]\n",
    "        i = 0\n",
    "        while sequence[i] < root:\n",
    "            i += 1\n",
    "        for j in range(i, length-1):\n",
    "            if sequence[j] < root:\n",
    "                return False\n",
    "        left = self.VerifySquenceOfBST(sequence[:i]) \n",
    "        right = self.VerifySquenceOfBST(sequence[i:length-1])\n",
    "        return left or right\n",
    "        "
   ]
  },
  {
   "cell_type": "code",
   "execution_count": 6,
   "metadata": {},
   "outputs": [],
   "source": [
    "# -*- coding:utf-8 -*-\n",
    "class Solution:\n",
    "    def VerifySquenceOfBST(self, sequence):\n",
    "        # write code here\n",
    "        if sequence == []:\n",
    "            return False\n",
    "        length = len(sequence)\n",
    "        if length == 1:\n",
    "            return True\n",
    "        root = sequence[-1]\n",
    "        i = 0\n",
    "        while sequence[i] < root:\n",
    "            i += 1\n",
    "#         k = i\n",
    "        for j in range(i, length-1):\n",
    "            if sequence[j] < root:\n",
    "                return False\n",
    "        left = True\n",
    "        right = True\n",
    "        if i > 0:\n",
    "            left = self.VerifySquenceOfBST(sequence[:i]) \n",
    "        if length - 1-i >0:\n",
    "            right = self.VerifySquenceOfBST(sequence[i:length-1])\n",
    "        return left and right\n",
    "        "
   ]
  },
  {
   "cell_type": "code",
   "execution_count": null,
   "metadata": {},
   "outputs": [],
   "source": [
    "# Definition for a binary tree node.\n",
    "# class TreeNode(object):\n",
    "#     def __init__(self, x):\n",
    "#         self.val = x\n",
    "#         self.left = None\n",
    "#         self.right = None\n",
    "\n",
    "class Solution(object):\n",
    "    def isValidBST(self, root):\n",
    "        \"\"\"\n",
    "        :type root: TreeNode\n",
    "        :rtype: bool\n",
    "        \"\"\"\n",
    "        def isBST(root, low, high):\n",
    "            if  low and root.val <= low:\n",
    "                return False\n",
    "            if  high and root.val >= high:\n",
    "                return False\n",
    "            left = isBST(root.left, root.val, None) if root.left else True\n",
    "            if left:\n",
    "                right = isBST(root.right, None, root.val) if root.right else True\n",
    "                return right \n",
    "            else:\n",
    "                return False\n",
    "        if root == None:\n",
    "            return False\n",
    "        return isBST(root, None, None)\n",
    "            \n",
    "            \n",
    "            "
   ]
  }
 ],
 "metadata": {
  "kernelspec": {
   "display_name": "Python 3",
   "language": "python",
   "name": "python3"
  },
  "language_info": {
   "codemirror_mode": {
    "name": "ipython",
    "version": 3
   },
   "file_extension": ".py",
   "mimetype": "text/x-python",
   "name": "python",
   "nbconvert_exporter": "python",
   "pygments_lexer": "ipython3",
   "version": "3.6.4"
  }
 },
 "nbformat": 4,
 "nbformat_minor": 2
}
