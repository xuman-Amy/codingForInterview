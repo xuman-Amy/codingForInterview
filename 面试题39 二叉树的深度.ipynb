{
 "cells": [
  {
   "cell_type": "code",
   "execution_count": 1,
   "metadata": {},
   "outputs": [],
   "source": [
    "# -*- coding:utf-8 -*-\n",
    "# class TreeNode:\n",
    "#     def __init__(self, x):\n",
    "#         self.val = x\n",
    "#         self.left = None\n",
    "#         self.right = None\n",
    "class Solution:\n",
    "    def TreeDepth(self, pRoot):\n",
    "        if pRoot == None:\n",
    "            return 0\n",
    "        # write code here\n",
    "        nleft = 0\n",
    "        nright = 0\n",
    "        if pRoot.left:\n",
    "            nleft = self.TreeDepth(pRoot.left)\n",
    "        if pRoot.right:\n",
    "            nright = self.TreeDepth(pRoot.right)\n",
    "        return max(nright, nleft) +1"
   ]
  },
  {
   "cell_type": "code",
   "execution_count": 2,
   "metadata": {},
   "outputs": [],
   "source": [
    "## 判断是不是平衡二叉树\n",
    "class Solution(object):\n",
    "    def DFS(self,root):\n",
    "        if not root:\n",
    "            return 0\n",
    "        left = self.DFS(root.left)\n",
    "        if left == -1:\n",
    "            return -1\n",
    "        right = self.DFS(root.right)\n",
    "        if right == -1:\n",
    "            return -1\n",
    "        if abs(left - right) > 1:\n",
    "            return -1\n",
    "        return max(left, right) + 1\n",
    "    \n",
    "    def isBalanced(self, root):\n",
    "        return (self.DFS(root) != -1)\n",
    "            "
   ]
  },
  {
   "cell_type": "code",
   "execution_count": null,
   "metadata": {},
   "outputs": [],
   "source": []
  },
  {
   "cell_type": "code",
   "execution_count": null,
   "metadata": {},
   "outputs": [],
   "source": []
  },
  {
   "cell_type": "code",
   "execution_count": null,
   "metadata": {},
   "outputs": [],
   "source": []
  },
  {
   "cell_type": "code",
   "execution_count": null,
   "metadata": {},
   "outputs": [],
   "source": []
  }
 ],
 "metadata": {
  "kernelspec": {
   "display_name": "Python 3",
   "language": "python",
   "name": "python3"
  },
  "language_info": {
   "codemirror_mode": {
    "name": "ipython",
    "version": 3
   },
   "file_extension": ".py",
   "mimetype": "text/x-python",
   "name": "python",
   "nbconvert_exporter": "python",
   "pygments_lexer": "ipython3",
   "version": "3.6.4"
  }
 },
 "nbformat": 4,
 "nbformat_minor": 2
}
