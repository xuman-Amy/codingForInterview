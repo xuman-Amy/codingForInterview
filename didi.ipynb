{
 "cells": [
  {
   "cell_type": "markdown",
   "metadata": {},
   "source": [
    "####  如何判断链表中有环；如果有，怎么找到环的入口。（链表的长度不知。）\n"
   ]
  },
  {
   "cell_type": "code",
   "execution_count": 7,
   "metadata": {},
   "outputs": [
    {
     "name": "stdout",
     "output_type": "stream",
     "text": [
      "loop exist !\n",
      "2\n"
     ]
    }
   ],
   "source": [
    "class LinkedList():\n",
    "    def __init__(self,val=None):\n",
    "        self.val = val\n",
    "        self.next = None\n",
    "    def findloop(self,head):\n",
    "#         定义一个快慢指针\n",
    "        slow = head\n",
    "        fast = head\n",
    "        loopFlag = False\n",
    "        if head == None:\n",
    "            return False\n",
    "        while fast.next!= None and fast.next.next != None:\n",
    "            #         快指针一次走两步\n",
    "            slow = slow.next\n",
    "            fast = fast.next.next\n",
    "            if slow == fast:\n",
    "                loopFlag = True\n",
    "                print('loop exist !')\n",
    "                break\n",
    "            \n",
    "        if loopFlag == True:\n",
    "#             找到环路的入口。slow回到顶点，二者都每次走一步，再次相遇的地方就是入口点\n",
    "            slow = head\n",
    "            while slow != fast:\n",
    "                fast = fast.next\n",
    "                slow = slow.next\n",
    "            return slow\n",
    "\n",
    "        print('no loop')\n",
    "        return False\n",
    "if __name__ == \"__main__\":\n",
    "    node1 = LinkedList(1)\n",
    "    node2 = LinkedList(2)\n",
    "    node3 = LinkedList(3)\n",
    "    node4 = LinkedList(4)\n",
    "    node5 = LinkedList(5)\n",
    "    node1.next = node2\n",
    "    node2.next = node3\n",
    "    node3.next = node4\n",
    "    node4.next = node5\n",
    "    node5.next = node2\n",
    "    print(LinkedList().findloop(node1).val)\n",
    "        "
   ]
  },
  {
   "cell_type": "markdown",
   "metadata": {},
   "source": [
    "#### 判断两个单链表是否相交"
   ]
  },
  {
   "cell_type": "markdown",
   "metadata": {},
   "source": [
    "#### 2、"
   ]
  },
  {
   "cell_type": "markdown",
   "metadata": {},
   "source": [
    "双数组trie树\n",
    "http://www.hankcs.com/program/java/%E5%8F%8C%E6%95%B0%E7%BB%84trie%E6%A0%91doublearraytriejava%E5%AE%9E%E7%8E%B0.html\n",
    "是Trie结构的压缩形式，仅用两个线性数组来表示Trie树，该结构有效结合了数字搜索树(Digital Search Tree)检索时间高效的特点和链式表示的Trie空间结构紧凑的特点。双数组Trie的本质是一个确定有限状态自动机（DFA），每个节点代表自动机的一个状态，根据变量不同，进行状态转移，当到达结束状态或无法转移时，完成一次查询操作。在双数组所有键中包含的字符之间的联系都是通过简单的数学加法运算表示，不仅提高了检索速度，而且省去了链式结构中使用的大量指针，节省了存储空间。\n",
    "\n"
   ]
  },
  {
   "cell_type": "code",
   "execution_count": null,
   "metadata": {},
   "outputs": [],
   "source": []
  },
  {
   "cell_type": "code",
   "execution_count": null,
   "metadata": {},
   "outputs": [],
   "source": []
  },
  {
   "cell_type": "code",
   "execution_count": null,
   "metadata": {},
   "outputs": [],
   "source": []
  },
  {
   "cell_type": "code",
   "execution_count": null,
   "metadata": {},
   "outputs": [],
   "source": []
  }
 ],
 "metadata": {
  "kernelspec": {
   "display_name": "Python 3",
   "language": "python",
   "name": "python3"
  },
  "language_info": {
   "codemirror_mode": {
    "name": "ipython",
    "version": 3
   },
   "file_extension": ".py",
   "mimetype": "text/x-python",
   "name": "python",
   "nbconvert_exporter": "python",
   "pygments_lexer": "ipython3",
   "version": "3.6.4"
  }
 },
 "nbformat": 4,
 "nbformat_minor": 2
}
