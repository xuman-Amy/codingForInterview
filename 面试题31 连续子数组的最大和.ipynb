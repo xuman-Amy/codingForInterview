{
 "cells": [
  {
   "cell_type": "code",
   "execution_count": 12,
   "metadata": {},
   "outputs": [
    {
     "data": {
      "text/plain": [
       "18"
      ]
     },
     "execution_count": 12,
     "metadata": {},
     "output_type": "execute_result"
    }
   ],
   "source": [
    "# 动态规划\n",
    "# -*- coding:utf-8 -*-\n",
    "class Solution:\n",
    "    def FindGreatestSumOfSubArray(self, array):\n",
    "        # write code here\n",
    "        if array == []:\n",
    "            return None\n",
    "        if len(array) == 1:\n",
    "            return array[0]\n",
    "        dp = [-float('inf')]*len(array)\n",
    "        maxNum = dp[0]\n",
    "#         dp[0] = array[0]\n",
    "        for i in range(len(array)):\n",
    "            if i == 0 or dp[i-1] <= 0:\n",
    "                dp[i] = array[i]\n",
    "                maxNum = max(maxNum, dp[i])\n",
    "            else:\n",
    "                dp[i] = dp[i-1] + array[i]\n",
    "                maxNum = max(maxNum, dp[i])\n",
    "\n",
    "        return maxNum\n",
    "nums = [1,-2,3,10,-4,7,2,-5]\n",
    "Solution().FindGreatestSumOfSubArray(nums)"
   ]
  },
  {
   "cell_type": "code",
   "execution_count": null,
   "metadata": {},
   "outputs": [],
   "source": []
  }
 ],
 "metadata": {
  "kernelspec": {
   "display_name": "Python 3",
   "language": "python",
   "name": "python3"
  },
  "language_info": {
   "codemirror_mode": {
    "name": "ipython",
    "version": 3
   },
   "file_extension": ".py",
   "mimetype": "text/x-python",
   "name": "python",
   "nbconvert_exporter": "python",
   "pygments_lexer": "ipython3",
   "version": "3.6.4"
  }
 },
 "nbformat": 4,
 "nbformat_minor": 2
}
