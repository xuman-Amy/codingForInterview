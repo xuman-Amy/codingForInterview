{
 "cells": [
  {
   "cell_type": "code",
   "execution_count": 11,
   "metadata": {},
   "outputs": [
    {
     "data": {
      "text/plain": [
       "1"
      ]
     },
     "execution_count": 11,
     "metadata": {},
     "output_type": "execute_result"
    }
   ],
   "source": [
    "# -*- coding:utf-8 -*-\n",
    "class Solution:\n",
    "    def getFirst(self, data, loc):\n",
    "        while loc-1 >= 0 and data[loc-1] == data[loc]:\n",
    "            loc -= 1\n",
    "        return loc\n",
    "    def getLast(self, data, loc):\n",
    "        while loc + 1 < len(data) and data[loc+1] == data[loc]:\n",
    "            loc += 1\n",
    "        return loc\n",
    "\n",
    "    def GetNumberOfK(self, data, k):\n",
    "        # write code here\n",
    "        if data == []:\n",
    "            return 0\n",
    "        left = 0\n",
    "        first = 0\n",
    "        last = 0\n",
    "        right = len(data) -1\n",
    "        while left <=right:\n",
    "            mid = (left + right) //2\n",
    "            if data[mid] == k:\n",
    "                first = self.getFirst(data, mid)\n",
    "                last = self.getLast(data, mid)\n",
    "                return last - first +1 \n",
    "            elif data[mid] < k:\n",
    "                left = mid + 1\n",
    "            else:\n",
    "                right = mid - 1\n",
    "        return 0\n",
    "nums = [3]\n",
    "Solution().GetNumberOfK(nums,3)"
   ]
  },
  {
   "cell_type": "code",
   "execution_count": null,
   "metadata": {},
   "outputs": [],
   "source": []
  }
 ],
 "metadata": {
  "kernelspec": {
   "display_name": "Python 3",
   "language": "python",
   "name": "python3"
  },
  "language_info": {
   "codemirror_mode": {
    "name": "ipython",
    "version": 3
   },
   "file_extension": ".py",
   "mimetype": "text/x-python",
   "name": "python",
   "nbconvert_exporter": "python",
   "pygments_lexer": "ipython3",
   "version": "3.6.4"
  }
 },
 "nbformat": 4,
 "nbformat_minor": 2
}
