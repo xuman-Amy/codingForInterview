{
 "cells": [
  {
   "cell_type": "code",
   "execution_count": 27,
   "metadata": {},
   "outputs": [
    {
     "name": "stdout",
     "output_type": "stream",
     "text": [
      "10 1 0\n"
     ]
    },
    {
     "data": {
      "text/plain": [
       "[8, 2]"
      ]
     },
     "execution_count": 27,
     "metadata": {},
     "output_type": "execute_result"
    }
   ],
   "source": [
    "# -*- coding:utf-8 -*-\n",
    "class Solution:\n",
    "    # 返回[a,b] 其中ab是出现一次的两个数字\n",
    "    def FindNumsAppearOnce(self, array):\n",
    "        # write code here\n",
    "        if array == []:\n",
    "            return None\n",
    "        res = array[0]\n",
    "        for i in range(1, len(array)):\n",
    "            res ^= array[i]\n",
    "        mask = 1\n",
    "        num1 ,num2 = 0, 0\n",
    "        print( res, mask, res & mask)\n",
    "        if res & mask == 0:\n",
    "            mask = mask << 1\n",
    "            \n",
    "        for num in array:\n",
    "            if num & mask == 0:\n",
    "                num1 ^= num\n",
    "            else:\n",
    "                num2 ^= num\n",
    "        return [num1, num2]\n",
    "nums = [2,8,3,3,4,4]\n",
    "Solution().FindNumsAppearOnce(nums)"
   ]
  },
  {
   "cell_type": "code",
   "execution_count": 22,
   "metadata": {},
   "outputs": [
    {
     "data": {
      "text/plain": [
       "1"
      ]
     },
     "execution_count": 22,
     "metadata": {},
     "output_type": "execute_result"
    }
   ],
   "source": [
    "3& 1"
   ]
  },
  {
   "cell_type": "code",
   "execution_count": null,
   "metadata": {},
   "outputs": [],
   "source": []
  }
 ],
 "metadata": {
  "kernelspec": {
   "display_name": "Python 3",
   "language": "python",
   "name": "python3"
  },
  "language_info": {
   "codemirror_mode": {
    "name": "ipython",
    "version": 3
   },
   "file_extension": ".py",
   "mimetype": "text/x-python",
   "name": "python",
   "nbconvert_exporter": "python",
   "pygments_lexer": "ipython3",
   "version": "3.6.4"
  }
 },
 "nbformat": 4,
 "nbformat_minor": 2
}
