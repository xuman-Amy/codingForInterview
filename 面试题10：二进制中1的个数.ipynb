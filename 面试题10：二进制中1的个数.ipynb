{
 "cells": [
  {
   "cell_type": "markdown",
   "metadata": {},
   "source": [
    "### 位操作\n",
    "leetcode #191\n",
    "### 面试题10：二进制中1的个数"
   ]
  },
  {
   "cell_type": "code",
   "execution_count": 1,
   "metadata": {},
   "outputs": [],
   "source": [
    "class Solution(object):\n",
    "#     正数时\n",
    "    def hammingWeight(self, n):\n",
    "        \"\"\"\n",
    "        :type n: int\n",
    "        :rtype: int\n",
    "        \"\"\"\n",
    "        count = 0\n",
    "        while n>0:\n",
    "            count += (n & 1)\n",
    "            n = n >> 1\n",
    "        return count\n",
    "#   可能是负数时，1左移n不动\n",
    "    def hammingWeight_2(self, n):\n",
    "        \"\"\"\n",
    "        :type n: int\n",
    "        :rtype: int\n",
    "        \"\"\"\n",
    "        count = 0\n",
    "        flag = 1\n",
    "        while flag:\n",
    "            count += (n & 1)\n",
    "            flag = flag << 1\n",
    "        return count\n",
    "\n",
    "Solution().hammingWeight(6)\n",
    "\n",
    "def hammingWeight3( n):\n",
    "    \"\"\"\n",
    "    :type n: int\n",
    "    :rtype: int\n",
    "    \"\"\"\n",
    "    s = 0\n",
    "    while n != 0:\n",
    "        s += 1\n",
    "        # n & (n-1)相当于把最右边以为变为0\n",
    "        n = n & (n-1)\n",
    "    return s\n",
    "print(hammingWeight3(4))"
   ]
  },
  {
   "cell_type": "markdown",
   "metadata": {},
   "source": [
    "### 判断是不是2的整数次方\n",
    "### 2的整数次方中有且只有一个1，与该数的减去1相与后全部为0"
   ]
  },
  {
   "cell_type": "code",
   "execution_count": 2,
   "metadata": {},
   "outputs": [],
   "source": [
    "\n",
    "\n",
    "def function(num):\n",
    "    if num & (num-1) == 0:\n",
    "        return num\n",
    "    else:\n",
    "        return False\n",
    "for x in range(100):\n",
    "    res = function(x)\n",
    "#     print(res)"
   ]
  },
  {
   "cell_type": "markdown",
   "metadata": {},
   "source": [
    "### 需要改变多少位从m变到n\n",
    "### 步骤：先进行异或，然后统计异或中1的个数"
   ]
  },
  {
   "cell_type": "code",
   "execution_count": 3,
   "metadata": {},
   "outputs": [
    {
     "data": {
      "text/plain": [
       "2"
      ]
     },
     "execution_count": 3,
     "metadata": {},
     "output_type": "execute_result"
    }
   ],
   "source": [
    "\n",
    "def function(m,n):\n",
    "    xor = m^n\n",
    "    res = 0\n",
    "    while xor:\n",
    "        res += 1\n",
    "        xor = xor & (xor-1)\n",
    "    return res\n",
    "function(8,13)"
   ]
  },
  {
   "cell_type": "code",
   "execution_count": null,
   "metadata": {},
   "outputs": [],
   "source": []
  }
 ],
 "metadata": {
  "kernelspec": {
   "display_name": "Python 3",
   "language": "python",
   "name": "python3"
  },
  "language_info": {
   "codemirror_mode": {
    "name": "ipython",
    "version": 3
   },
   "file_extension": ".py",
   "mimetype": "text/x-python",
   "name": "python",
   "nbconvert_exporter": "python",
   "pygments_lexer": "ipython3",
   "version": "3.6.4"
  }
 },
 "nbformat": 4,
 "nbformat_minor": 2
}
