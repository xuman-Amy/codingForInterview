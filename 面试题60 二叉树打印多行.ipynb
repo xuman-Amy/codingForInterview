{
 "cells": [
  {
   "cell_type": "code",
   "execution_count": null,
   "metadata": {},
   "outputs": [],
   "source": [
    "# -*- coding:utf-8 -*-\n",
    "# class TreeNode:\n",
    "#     def __init__(self, x):\n",
    "#         self.val = x\n",
    "#         self.left = None\n",
    "#         self.right = None\n",
    "class Solution:\n",
    "    # 返回二维列表[[1,2],[4,5]]\n",
    "    def Print(self, pRoot):\n",
    "        # write code here\n",
    "        if pRoot == None:\n",
    "            return []\n",
    "        if pRoot == None:\n",
    "            return []\n",
    "        stack = []\n",
    "        res = []\n",
    "        stack.append(pRoot)\n",
    "        while stack:\n",
    "            tmp = []\n",
    "            size = len(stack)\n",
    "            for i in range(size):\n",
    "                root = stack.pop(0)\n",
    "                tmp.append(root.val)\n",
    "                if root.left:\n",
    "                    stack.append(root.left)\n",
    "                if root.right:\n",
    "                    stack.append(root.right)\n",
    "            res.append(tmp)\n",
    "        return res"
   ]
  }
 ],
 "metadata": {
  "kernelspec": {
   "display_name": "Python 3",
   "language": "python",
   "name": "python3"
  },
  "language_info": {
   "codemirror_mode": {
    "name": "ipython",
    "version": 3
   },
   "file_extension": ".py",
   "mimetype": "text/x-python",
   "name": "python",
   "nbconvert_exporter": "python",
   "pygments_lexer": "ipython3",
   "version": "3.6.4"
  }
 },
 "nbformat": 4,
 "nbformat_minor": 2
}
