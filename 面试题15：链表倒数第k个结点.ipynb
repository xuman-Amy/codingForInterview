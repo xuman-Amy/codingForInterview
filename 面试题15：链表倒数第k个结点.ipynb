{
 "cells": [
  {
   "cell_type": "markdown",
   "metadata": {},
   "source": [
    "增加代码的鲁棒性，分析各种潜在问题"
   ]
  },
  {
   "cell_type": "markdown",
   "metadata": {},
   "source": [
    "### 面试题15：链表倒数第k个结点"
   ]
  },
  {
   "cell_type": "code",
   "execution_count": 4,
   "metadata": {},
   "outputs": [],
   "source": [
    "class ListNode(object):\n",
    "    def __init__(self, x):\n",
    "        self.val = x\n",
    "        self.next = None\n",
    "    def FindKthNode(self,head,k):\n",
    "        if k == 0 or head == None:\n",
    "            return None\n",
    "        left, right = head,head\n",
    "        for i in range(k-1):\n",
    "            if right.next == None:\n",
    "                return None\n",
    "            else:\n",
    "                right = right.next\n",
    "        while right.next != None:\n",
    "            right = right.next\n",
    "            left = left.next\n",
    "        return left\n",
    "    "
   ]
  },
  {
   "cell_type": "markdown",
   "metadata": {},
   "source": [
    "快慢指针\n"
   ]
  },
  {
   "cell_type": "markdown",
   "metadata": {},
   "source": [
    "### 拓展：链表中间的结点\n",
    "\n",
    "如果链表长度为奇数，返回中间的结点；如果是偶数，返回中间的两个结点。\n",
    "\n",
    "两个指针，从头部开始，一个走一步，一个走两步，快指针的下一步为空指针时，慢指针走到中间结点。\n",
    "\n",
    "\n"
   ]
  },
  {
   "cell_type": "code",
   "execution_count": null,
   "metadata": {},
   "outputs": [],
   "source": [
    "# class ListNode(object):\n",
    "#     def __init__(self, x):\n",
    "#         self.val = x\n",
    "#         self.next = None\n",
    "\n",
    "class Solution(object):\n",
    "    def middleNode(self, head):\n",
    "        \"\"\"\n",
    "        :type head: ListNode\n",
    "        :rtype: ListNode\n",
    "        \"\"\"\n",
    "        if head == None:\n",
    "            return None\n",
    "        if head.next == None:\n",
    "            return head\n",
    "        quick , slow = head, head\n",
    "        while quick.next != None and quick.next.next != None:\n",
    "            slow = slow.next\n",
    "            quick = quick.next.next\n",
    "#             说明奇数个结点\n",
    "        if quick.next == None:\n",
    "            return slow\n",
    "#         偶数个结点\n",
    "        else:\n",
    "            return slow,slow.next"
   ]
  },
  {
   "cell_type": "markdown",
   "metadata": {},
   "source": [
    "### 判断环形链表\n",
    "快慢指针,快指针能够追上慢指针则有环\n"
   ]
  },
  {
   "cell_type": "code",
   "execution_count": 5,
   "metadata": {},
   "outputs": [],
   "source": [
    "# Definition for singly-linked list.\n",
    "# class ListNode(object):\n",
    "#     def __init__(self, x):\n",
    "#         self.val = x\n",
    "#         self.next = None\n",
    "\n",
    "class Solution(object):\n",
    "    def hasCycle(self, head):\n",
    "        \"\"\"\n",
    "        :type head: ListNode\n",
    "        :rtype: bool\n",
    "        \"\"\"\n",
    "        if head == None or head.next == None:\n",
    "            return False\n",
    "        quick, slow = head, head\n",
    "        while quick and quick.next != None:\n",
    "            if quick.next == slow:\n",
    "                return True\n",
    "            slow = slow.next\n",
    "            quick = quick.next.next\n",
    "            \n",
    "        return False"
   ]
  },
  {
   "cell_type": "code",
   "execution_count": null,
   "metadata": {},
   "outputs": [],
   "source": []
  },
  {
   "cell_type": "code",
   "execution_count": null,
   "metadata": {},
   "outputs": [],
   "source": []
  }
 ],
 "metadata": {
  "kernelspec": {
   "display_name": "Python 3",
   "language": "python",
   "name": "python3"
  },
  "language_info": {
   "codemirror_mode": {
    "name": "ipython",
    "version": 3
   },
   "file_extension": ".py",
   "mimetype": "text/x-python",
   "name": "python",
   "nbconvert_exporter": "python",
   "pygments_lexer": "ipython3",
   "version": "3.6.4"
  }
 },
 "nbformat": 4,
 "nbformat_minor": 2
}
