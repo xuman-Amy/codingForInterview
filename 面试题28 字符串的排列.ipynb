{
 "cells": [
  {
   "cell_type": "code",
   "execution_count": 28,
   "metadata": {
    "scrolled": true
   },
   "outputs": [
    {
     "data": {
      "text/plain": [
       "['132', '213', '231', '123', '312', '321']"
      ]
     },
     "execution_count": 28,
     "metadata": {},
     "output_type": "execute_result"
    }
   ],
   "source": [
    "# -*- coding:utf-8 -*-\n",
    "class Solution:\n",
    "    def Permutation(self, ss):\n",
    "        # write code here\n",
    "        if ss == '':\n",
    "            return []\n",
    "        res = []\n",
    "        self.Permu(ss, res, '')\n",
    "        ret = list(set(res))\n",
    "        return ret\n",
    "    def Permu(self, ss, res, path):\n",
    "        if ss == '':\n",
    "            res.append(path)\n",
    "        else:\n",
    "            for i in range(len(ss)):\n",
    "                self.Permu(ss[:i] + ss[i+1:], res, path+ss[i])\n",
    "ss = '123'\n",
    "Solution().Permutation(ss)"
   ]
  },
  {
   "cell_type": "markdown",
   "metadata": {},
   "source": [
    "### 八皇后问题\n",
    "###  #51leetcode N皇后问题\n",
    "定义一个一维list，inex代表行数，值代表列数。比如nums长度为N,代表一共N行（也就是N个皇后）；nums[0] = 1 代表第一个皇后在第0行第1列。\n"
   ]
  },
  {
   "cell_type": "code",
   "execution_count": null,
   "metadata": {},
   "outputs": [],
   "source": [
    "class Solution(object):\n",
    "    def solveNQueens(self, n):\n",
    "        \"\"\"\n",
    "        :type n: int\n",
    "        :rtype: List[List[str]]\n",
    "        \"\"\"\n",
    "        res = []\n",
    "        nums = [-1] * n \n",
    "        self.dfs(nums, 0, res,[])\n",
    "        return res\n",
    "    \n",
    "    def dfs(self, nums, index, res, path):\n",
    "        if index == len(nums):\n",
    "            res.append(path)\n",
    "            return \n",
    "        for i in range(len(nums)):\n",
    "            nums[index] = i\n",
    "            if self.isValid(nums, index):\n",
    "                tmp = '.' * len(nums)\n",
    "                self.dfs(nums, index+1, res, path+[tmp[:i] + 'Q' + tmp[i+1:]])\n",
    "                \n",
    "        \n",
    "    def isValid (self, nums,n):\n",
    "        for i in range(n):\n",
    "#             判断是否在同一对角线上。因为对角线是斜率为1的直线，函数也就是y=x+b(截距)，所以在同一对角线上的满足y-x = b\n",
    "#             也就是满足y1-x1 = y2-x2 或者y1-y2 = x1-x2\n",
    "#             nums[i] == nums[n]代表在同一列（行）\n",
    "            if abs(nums[i] - nums[n]) == n-i or nums[i] == nums[n]:\n",
    "                return False\n",
    "        return True\n",
    "            "
   ]
  },
  {
   "cell_type": "code",
   "execution_count": 39,
   "metadata": {},
   "outputs": [],
   "source": [
    "class Solution():\n",
    "    def solve(self):\n",
    "        res = []\n",
    "        nums = [1,2,3,4,5,6,7,8]\n",
    "        self.dfs(nums, res, [])\n",
    "        for x in res:\n",
    "            if not self.isValid(x):\n",
    "                res.remove(x)\n",
    "        return res\n",
    "    def dfs(self, nums, res, path):\n",
    "        if nums == []:\n",
    "            res.append(path[:])\n",
    "            return\n",
    "        for i in range(len(nums)):\n",
    "            self.dfs(nums[:i]+nums[i+1:], res, path + [(nums[i])])\n",
    "    def isValid(self,nums):\n",
    "        if (nums[0] + nums[1] + nums[2] + nums[3] == nums[4] + nums[5] + nums[6] + nums[7]) \\\n",
    "        and (nums[1] + nums[3] + nums[5] + nums[7] ==  nums[0] + nums[2] + nums[4] + nums[6])\\\n",
    "        and (nums[1] + nums[0] + nums[5] + nums[4] == nums[3] + nums[6] + nums[7] + nums[2]):\n",
    "            \n",
    "            return True\n",
    "        return False\n",
    "         \n",
    "res = Solution().solve()"
   ]
  },
  {
   "cell_type": "code",
   "execution_count": null,
   "metadata": {},
   "outputs": [],
   "source": []
  },
  {
   "cell_type": "code",
   "execution_count": null,
   "metadata": {},
   "outputs": [],
   "source": []
  },
  {
   "cell_type": "code",
   "execution_count": null,
   "metadata": {},
   "outputs": [],
   "source": []
  },
  {
   "cell_type": "code",
   "execution_count": null,
   "metadata": {},
   "outputs": [],
   "source": []
  }
 ],
 "metadata": {
  "kernelspec": {
   "display_name": "Python 3",
   "language": "python",
   "name": "python3"
  },
  "language_info": {
   "codemirror_mode": {
    "name": "ipython",
    "version": 3
   },
   "file_extension": ".py",
   "mimetype": "text/x-python",
   "name": "python",
   "nbconvert_exporter": "python",
   "pygments_lexer": "ipython3",
   "version": "3.6.4"
  }
 },
 "nbformat": 4,
 "nbformat_minor": 2
}
