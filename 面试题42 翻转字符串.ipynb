{
 "cells": [
  {
   "cell_type": "code",
   "execution_count": 95,
   "metadata": {},
   "outputs": [
    {
     "name": "stdout",
     "output_type": "stream",
     "text": [
      "['t', 'n', 'e', 'd', 'u', 't', 's', ' ', 'a', ' ', 'm', 'a', ' ', 'i']\n",
      "['s', 't', 'u', 'd', 'e', 'n', 't']\n",
      "['a']\n",
      "['a', 'm']\n"
     ]
    },
    {
     "data": {
      "text/plain": [
       "'student a am i'"
      ]
     },
     "execution_count": 95,
     "metadata": {},
     "output_type": "execute_result"
    }
   ],
   "source": [
    "# -*- coding:utf-8 -*-\n",
    "class Solution:\n",
    "    def reverseWord(self, s):\n",
    "        # write code here\n",
    "        if s  == '':\n",
    "            return ''\n",
    "        left = 0\n",
    "        right = len(s)-1\n",
    "        while left <= right:\n",
    "            s[left], s[right] = s[right], s[left]\n",
    "            left += 1\n",
    "            right -= 1\n",
    "        return s\n",
    "    def ReverseSentence(self,s):\n",
    "        left = 0\n",
    "        right = 0\n",
    "        ss = self.reverseWord(list(s))\n",
    "        print(ss)\n",
    "        res = []\n",
    "        while right < len(ss):\n",
    "            if ss[right] == ' ':\n",
    "                print(self.reverseWord(ss[left:right]))\n",
    "                res.extend(self.reverseWord(ss[left:right]))\n",
    "                res.extend(ss[right])\n",
    "                left= right+1\n",
    "            elif right+1 == len(ss):\n",
    "                res.extend(self.reverseWord(ss[left:right+1]))\n",
    "#                 left  = right+1\n",
    "            right += 1\n",
    "        return ''.join(res)\n",
    "        \n",
    "s = 'i am a student'\n",
    "Solution().ReverseSentence(s)"
   ]
  },
  {
   "cell_type": "code",
   "execution_count": 99,
   "metadata": {},
   "outputs": [
    {
     "data": {
      "text/plain": [
       "'cdab'"
      ]
     },
     "execution_count": 99,
     "metadata": {},
     "output_type": "execute_result"
    }
   ],
   "source": [
    "# -*- coding:utf-8 -*-\n",
    "class Solution:\n",
    "    def LeftRotateString(self, s, n):\n",
    "        # write code here\n",
    "        left = s[:n]\n",
    "        right = s[n:]\n",
    "        leftReverse = self.reverseWord(list(left))\n",
    "        rightReverse = self.reverseWord(list(right))\n",
    "        ss = (leftReverse + rightReverse)\n",
    "        return ''.join(self.reverseWord(ss))\n",
    "    def reverseWord(self, s):\n",
    "        # write code here\n",
    "        if s  == '':\n",
    "            return ''\n",
    "        left = 0\n",
    "        right = len(s)-1\n",
    "        while left <= right:\n",
    "            s[left], s[right] = s[right], s[left]\n",
    "            left += 1\n",
    "            right -= 1\n",
    "        return s\n",
    "    \n",
    "Solution().LeftRotateString('abcd',2)"
   ]
  },
  {
   "cell_type": "code",
   "execution_count": null,
   "metadata": {},
   "outputs": [],
   "source": []
  }
 ],
 "metadata": {
  "kernelspec": {
   "display_name": "Python 3",
   "language": "python",
   "name": "python3"
  },
  "language_info": {
   "codemirror_mode": {
    "name": "ipython",
    "version": 3
   },
   "file_extension": ".py",
   "mimetype": "text/x-python",
   "name": "python",
   "nbconvert_exporter": "python",
   "pygments_lexer": "ipython3",
   "version": "3.6.4"
  }
 },
 "nbformat": 4,
 "nbformat_minor": 2
}
