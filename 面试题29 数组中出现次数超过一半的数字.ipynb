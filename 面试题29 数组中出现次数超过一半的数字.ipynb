{
 "cells": [
  {
   "cell_type": "code",
   "execution_count": 25,
   "metadata": {},
   "outputs": [
    {
     "data": {
      "text/plain": [
       "0"
      ]
     },
     "execution_count": 25,
     "metadata": {},
     "output_type": "execute_result"
    }
   ],
   "source": [
    "# -*- coding:utf-8 -*-\n",
    "class Solution:\n",
    "    def MoreThanHalfNum_Solution(self, numbers):\n",
    "        # write code here\n",
    "        if numbers == []:\n",
    "            return 0\n",
    "        begin = 0\n",
    "        end = len(numbers)-1\n",
    "        middle = len(numbers)>> 1\n",
    "        count = 0\n",
    "        index = self.Partition(numbers, begin, end)\n",
    "        while index != middle:\n",
    "            if index < middle:\n",
    "                begin = index +1\n",
    "                index = self.Partition(numbers, begin, end)\n",
    "            else:\n",
    "                end = index -1 \n",
    "                index = self.Partition(numbers, begin, end)\n",
    "        res =  numbers[index]\n",
    "        for x in numbers:\n",
    "            if x == numbers[index]:\n",
    "                count += 1\n",
    "        if count > middle:\n",
    "            return res\n",
    "        else:\n",
    "            return 0\n",
    "    def Partition(self, numbers, begin, end):\n",
    "        left = begin +1 \n",
    "        right = end\n",
    "        while left <= right:\n",
    "            if numbers[left] < numbers[begin] and numbers[right]>  numbers[begin]:\n",
    "                numbers[left], numbers[right] = numbers[right], numbers[left]\n",
    "            if numbers[right] <= numbers[begin]:\n",
    "                right -= 1\n",
    "            if numbers[left] >= numbers[begin]:\n",
    "                left += 1\n",
    "        numbers[begin], numbers[right] = numbers[right], numbers[begin]\n",
    "        return right\n",
    "numbers = [1,2,3,2,4,2,5,2,3]     \n",
    "Solution().MoreThanHalfNum_Solution(numbers)"
   ]
  },
  {
   "cell_type": "code",
   "execution_count": 30,
   "metadata": {},
   "outputs": [
    {
     "data": {
      "text/plain": [
       "0"
      ]
     },
     "execution_count": 30,
     "metadata": {},
     "output_type": "execute_result"
    }
   ],
   "source": [
    "class Solution:\n",
    "    def MoreThanHalfNum_Solution(self, numbers):\n",
    "        dic = dict()\n",
    "        for x in numbers:\n",
    "            if x not in dic:\n",
    "                dic[x] = 0\n",
    "            else:\n",
    "                dic[x] += 1\n",
    "            if dic[x] > len(numbers)// 2:\n",
    "                return x\n",
    "        return 0\n",
    "numbers = [1,2,3,2,2,2,5,2,3]     \n",
    "Solution().MoreThanHalfNum_Solution(numbers)"
   ]
  },
  {
   "cell_type": "code",
   "execution_count": null,
   "metadata": {},
   "outputs": [],
   "source": []
  },
  {
   "cell_type": "code",
   "execution_count": null,
   "metadata": {},
   "outputs": [],
   "source": []
  }
 ],
 "metadata": {
  "kernelspec": {
   "display_name": "Python 3",
   "language": "python",
   "name": "python3"
  },
  "language_info": {
   "codemirror_mode": {
    "name": "ipython",
    "version": 3
   },
   "file_extension": ".py",
   "mimetype": "text/x-python",
   "name": "python",
   "nbconvert_exporter": "python",
   "pygments_lexer": "ipython3",
   "version": "3.6.4"
  }
 },
 "nbformat": 4,
 "nbformat_minor": 2
}
