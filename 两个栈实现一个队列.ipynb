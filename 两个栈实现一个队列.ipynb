{
 "cells": [
  {
   "cell_type": "markdown",
   "metadata": {},
   "source": [
    "## 用两个栈实现一个队列"
   ]
  },
  {
   "cell_type": "code",
   "execution_count": 29,
   "metadata": {},
   "outputs": [
    {
     "name": "stdout",
     "output_type": "stream",
     "text": [
      "1\n",
      "2\n",
      "3\n",
      "4\n",
      "5\n"
     ]
    }
   ],
   "source": [
    "class QueenWith2Stack(object):\n",
    "    def __init__(self):\n",
    "        self.stack1 = []\n",
    "        self.stack2 = []\n",
    "        \n",
    "    def appendtail(self,num):\n",
    "        self.stack1.append(num)\n",
    "#         print(self.stack1)\n",
    "    def deletehead(self):\n",
    "        if self.stack2:\n",
    "            return self.stack2.pop()\n",
    "        else:\n",
    "            if self.stack1:\n",
    "                while self.stack1:\n",
    "                    self.stack2.append(self.stack1.pop())\n",
    "                return self.stack2.pop()\n",
    "            else:\n",
    "                return None\n",
    "if __name__ == '__main__':\n",
    "    queen = QueenWith2Stack()\n",
    "    for x in [1,2,3,4,5]:\n",
    "        queen.appendtail(x)\n",
    "    for x in range(5):\n",
    "        print(queen.deletehead())\n",
    "    "
   ]
  },
  {
   "cell_type": "markdown",
   "metadata": {},
   "source": [
    "## 用两个队列实现一个栈\n"
   ]
  },
  {
   "cell_type": "code",
   "execution_count": 47,
   "metadata": {},
   "outputs": [
    {
     "name": "stdout",
     "output_type": "stream",
     "text": [
      "5\n",
      "4\n",
      "3\n",
      "2\n",
      "1\n"
     ]
    }
   ],
   "source": [
    "class StackWith2Queen():\n",
    "    def __init__(self):\n",
    "        self.queen1 = []\n",
    "        self.queen2 = []\n",
    "        \n",
    "    def push(self, num):\n",
    "        if  not self.queen1:\n",
    "            self.queen1.append(num)\n",
    "        elif not self.queen2:\n",
    "            self.queen2.append(num)\n",
    "            \n",
    "        if len(self.queen1) == 1 and len(self.queen2) >1:\n",
    "            while self.queen2:\n",
    "                self.queen1.append(self.queen2.pop(0))\n",
    "        elif len(self.queen2) == 1 and len(self.queen1) >=1 :\n",
    "            while self.queen1:\n",
    "                self.queen2.append(self.queen1.pop(0))\n",
    "        \n",
    "    def pop(self):\n",
    "        if self.queen1:\n",
    "            return self.queen1.pop(0)\n",
    "        elif self.queen2:\n",
    "            return self.queen2.pop(0)\n",
    "        else:\n",
    "            return None\n",
    "if __name__ == '__main__':\n",
    "    stack = StackWith2Queen()\n",
    "    for x in [1,2,3,4,5]:\n",
    "        stack.push(x)\n",
    "    for x in range(5):\n",
    "        print(stack.pop())      "
   ]
  },
  {
   "cell_type": "code",
   "execution_count": null,
   "metadata": {},
   "outputs": [],
   "source": []
  },
  {
   "cell_type": "code",
   "execution_count": null,
   "metadata": {},
   "outputs": [],
   "source": []
  }
 ],
 "metadata": {
  "kernelspec": {
   "display_name": "Python 3",
   "language": "python",
   "name": "python3"
  },
  "language_info": {
   "codemirror_mode": {
    "name": "ipython",
    "version": 3
   },
   "file_extension": ".py",
   "mimetype": "text/x-python",
   "name": "python",
   "nbconvert_exporter": "python",
   "pygments_lexer": "ipython3",
   "version": "3.6.4"
  }
 },
 "nbformat": 4,
 "nbformat_minor": 2
}
