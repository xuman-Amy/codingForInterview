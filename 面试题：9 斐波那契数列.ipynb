{
 "cells": [
  {
   "cell_type": "markdown",
   "metadata": {},
   "source": [
    "#### 递归和循环的区别\n",
    "递归通常代码简洁，但是效率不如循环。\n",
    "\n",
    "1、递归即调用函数本身，函数调用就会有时间和空间的消耗，每一次函数调用都需要在内存栈中分配空间保存参数、返回地址和临时变量。  \n",
    "2、递归中有很多计算是重复的，影响性能。  \n",
    "3、递归还可能引起栈溢出的问题。\n",
    "\n"
   ]
  },
  {
   "cell_type": "code",
   "execution_count": null,
   "metadata": {},
   "outputs": [],
   "source": [
    "f(n) = 0 n = 0\n",
    "       1 n = 1\n",
    "       f(n-1) + f(n-2) n>1\n",
    "        \n",
    "        "
   ]
  },
  {
   "cell_type": "code",
   "execution_count": 29,
   "metadata": {},
   "outputs": [],
   "source": [
    "# 递归\n",
    "def Fibonacci(n):\n",
    "    if n <= 0:\n",
    "        return 0\n",
    "    if n == 1:\n",
    "        return 1\n",
    "    return (Fibonacci(n-1) + Fibonacci(n-2))\n",
    "s = Fibonacci(6)\n"
   ]
  },
  {
   "cell_type": "code",
   "execution_count": 30,
   "metadata": {},
   "outputs": [
    {
     "data": {
      "text/plain": [
       "8"
      ]
     },
     "execution_count": 30,
     "metadata": {},
     "output_type": "execute_result"
    }
   ],
   "source": [
    "# 方法2\n",
    "def FibonacciEasy(n):\n",
    "    if n <= 0:\n",
    "        return 0\n",
    "    if n == 1:\n",
    "        return 1\n",
    "    FirsrNum = 1\n",
    "    SecondNum = 0\n",
    "    res = 0\n",
    "    \n",
    "    for i in range(2,n+1):\n",
    "        res = FirsrNum + SecondNum\n",
    "        SecondNum = FirsrNum \n",
    "        FirsrNum = res\n",
    "    return res\n",
    "FibonacciEasy(6)\n"
   ]
  },
  {
   "cell_type": "code",
   "execution_count": null,
   "metadata": {},
   "outputs": [],
   "source": []
  },
  {
   "cell_type": "code",
   "execution_count": null,
   "metadata": {},
   "outputs": [],
   "source": []
  },
  {
   "cell_type": "code",
   "execution_count": null,
   "metadata": {},
   "outputs": [],
   "source": []
  }
 ],
 "metadata": {
  "kernelspec": {
   "display_name": "Python 3",
   "language": "python",
   "name": "python3"
  },
  "language_info": {
   "codemirror_mode": {
    "name": "ipython",
    "version": 3
   },
   "file_extension": ".py",
   "mimetype": "text/x-python",
   "name": "python",
   "nbconvert_exporter": "python",
   "pygments_lexer": "ipython3",
   "version": "3.6.4"
  }
 },
 "nbformat": 4,
 "nbformat_minor": 2
}
