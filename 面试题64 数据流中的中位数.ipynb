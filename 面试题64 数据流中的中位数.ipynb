{
 "cells": [
  {
   "cell_type": "code",
   "execution_count": 13,
   "metadata": {},
   "outputs": [],
   "source": [
    "# -*- coding:utf-8 -*-\n",
    "class Solution:\n",
    "    nums = []\n",
    "    def Insert(self, num):\n",
    "        # write code here\n",
    "        self.nums.append(num)\n",
    "    def GetMedian(self):\n",
    "        self.nums.sort()\n",
    "        length = len(self.nums)\n",
    "        if length &0x1 == 1:\n",
    "            return self.nums[length//2]\n",
    "        else:\n",
    "            return (self.nums[length//2-1]+self.nums[length//2])/2.0"
   ]
  },
  {
   "cell_type": "code",
   "execution_count": 14,
   "metadata": {},
   "outputs": [
    {
     "name": "stdout",
     "output_type": "stream",
     "text": [
      "5\n",
      "3.5\n",
      "2\n",
      "2.5\n",
      "3\n",
      "3.5\n",
      "4\n",
      "2.5\n",
      "1\n"
     ]
    }
   ],
   "source": [
    "class Solution:\n",
    "    x = []\n",
    "    def Insert(self, num):\n",
    "        # write code here\n",
    "        self.x.append(num)\n",
    "        self.x.sort()\n",
    "             \n",
    "         \n",
    "    def GetMedian(self,x):\n",
    "        # write code here\n",
    "        n = len(self.x)\n",
    "        if n%2 == 1:\n",
    "            return self.x[n/2]\n",
    "        else:\n",
    "            return (self.x[n/2-1]+self.x[n/2])/2.0"
   ]
  },
  {
   "cell_type": "code",
   "execution_count": null,
   "metadata": {},
   "outputs": [],
   "source": []
  }
 ],
 "metadata": {
  "kernelspec": {
   "display_name": "Python 3",
   "language": "python",
   "name": "python3"
  },
  "language_info": {
   "codemirror_mode": {
    "name": "ipython",
    "version": 3
   },
   "file_extension": ".py",
   "mimetype": "text/x-python",
   "name": "python",
   "nbconvert_exporter": "python",
   "pygments_lexer": "ipython3",
   "version": "3.6.4"
  }
 },
 "nbformat": 4,
 "nbformat_minor": 2
}
