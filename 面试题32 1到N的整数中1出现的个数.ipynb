{
 "cells": [
  {
   "cell_type": "code",
   "execution_count": 33,
   "metadata": {},
   "outputs": [
    {
     "data": {
      "text/plain": [
       "12"
      ]
     },
     "execution_count": 33,
     "metadata": {},
     "output_type": "execute_result"
    }
   ],
   "source": [
    "# -*- coding:utf-8 -*-\n",
    "class Solution:\n",
    "    def NumberOf1Between1AndN_Solution(self, n):\n",
    "        if n < 10:\n",
    "            return 1 if n > 0 else 0\n",
    "        digits = self.get_digits(n)\n",
    "        lowNum = self.get_1_digits(digits - 1)\n",
    "        high = int(str(n)[0])\n",
    "        low = n - high* 10 **(digits-1)\n",
    "        if high == 1:\n",
    "            highNum = low + 1\n",
    "            allNum = highNum\n",
    "        else:\n",
    "            highNum = 10**(digits - 1)\n",
    "            allNum = highNum + lowNum * (high -1 )\n",
    "        return lowNum + allNum + self.NumberOf1Between1AndN_Solution(low)\n",
    "            \n",
    "        # write code here\n",
    "#     获取n位数的1的个数\n",
    "    def get_1_digits(self,n):\n",
    "#         n为位数\n",
    "        if n < 0: return 0\n",
    "        if n == 1: return n\n",
    "        current = 9 * self.get_1_digits(n-1) + 10 **(n-1)\n",
    "        return current + self.get_1_digits(n-1)\n",
    "            \n",
    "    def get_digits(self,num):\n",
    "        res = 0\n",
    "        while num:\n",
    "            res += 1\n",
    "            num //= 10\n",
    "        return res\n",
    "    \n",
    "Solution().NumberOf1Between1AndN_Solution(19)\n"
   ]
  },
  {
   "cell_type": "code",
   "execution_count": null,
   "metadata": {},
   "outputs": [],
   "source": []
  }
 ],
 "metadata": {
  "kernelspec": {
   "display_name": "Python 3",
   "language": "python",
   "name": "python3"
  },
  "language_info": {
   "codemirror_mode": {
    "name": "ipython",
    "version": 3
   },
   "file_extension": ".py",
   "mimetype": "text/x-python",
   "name": "python",
   "nbconvert_exporter": "python",
   "pygments_lexer": "ipython3",
   "version": "3.6.4"
  }
 },
 "nbformat": 4,
 "nbformat_minor": 2
}
