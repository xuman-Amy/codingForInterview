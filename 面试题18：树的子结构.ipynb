{
 "cells": [
  {
   "cell_type": "code",
   "execution_count": 5,
   "metadata": {},
   "outputs": [],
   "source": [
    "\n",
    "class Solution(object):\n",
    "    def isSubtree(self, s, t):\n",
    "        res = False\n",
    "        if s != None and t!= None:\n",
    "            if s.val == t.val:\n",
    "                res = self.helper(s,t)\n",
    "            if not res and s.left:\n",
    "                res = self.isSubtree(s.left, t)\n",
    "            if not res and s.right:\n",
    "                res = self.isSubtree(s.right, t)\n",
    "                \n",
    "        return res\n",
    "    def helper(self,s,t):\n",
    "        if t == None:\n",
    "            return True\n",
    "        if s == None:\n",
    "            return False\n",
    "        if s.val != t.val:\n",
    "            return False\n",
    "        return self.helper(s.left,t.left) and self.helper(s.right,t.right)\n",
    "        "
   ]
  },
  {
   "cell_type": "code",
   "execution_count": 7,
   "metadata": {},
   "outputs": [],
   "source": [
    "# leetcode 572\n"
   ]
  },
  {
   "cell_type": "code",
   "execution_count": 6,
   "metadata": {},
   "outputs": [],
   "source": [
    "class Solution(object):\n",
    "    def isSubtree(self, s, t):\n",
    "        return self.traverse(s,t)\n",
    "    \n",
    "    def traverse(self, s, t):\n",
    "        return (s!= None and(self.equal(s, t) or self.traverse(s.left, t) or self.traverse(s.right,t)))\n",
    "    \n",
    "    def equal(self,s,t):\n",
    "        if s == None and t == None:\n",
    "            return True\n",
    "        if s ==None or  t == None:\n",
    "            return False\n",
    "        return s.val == t.val and self.equal(s.left, t.left) and self.equal(s.right, t.right)\n",
    "    \n",
    "    "
   ]
  },
  {
   "cell_type": "code",
   "execution_count": null,
   "metadata": {},
   "outputs": [],
   "source": []
  }
 ],
 "metadata": {
  "kernelspec": {
   "display_name": "Python 3",
   "language": "python",
   "name": "python3"
  },
  "language_info": {
   "codemirror_mode": {
    "name": "ipython",
    "version": 3
   },
   "file_extension": ".py",
   "mimetype": "text/x-python",
   "name": "python",
   "nbconvert_exporter": "python",
   "pygments_lexer": "ipython3",
   "version": "3.6.4"
  }
 },
 "nbformat": 4,
 "nbformat_minor": 2
}
