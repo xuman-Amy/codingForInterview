{
 "cells": [
  {
   "cell_type": "code",
   "execution_count": 8,
   "metadata": {},
   "outputs": [
    {
     "name": "stdout",
     "output_type": "stream",
     "text": [
      "4\n"
     ]
    },
    {
     "data": {
      "text/plain": [
       "False"
      ]
     },
     "execution_count": 8,
     "metadata": {},
     "output_type": "execute_result"
    }
   ],
   "source": [
    "# -*- coding:utf-8 -*-\n",
    "class Solution:\n",
    "    def IsContinuous(self, numbers):\n",
    "        # write code here  \n",
    "        numbers = sorted(numbers)\n",
    "        numOfZero = 0\n",
    "        numGap = 0\n",
    "        length = len(numbers)\n",
    "        for i in range(len(numbers)):\n",
    "            if numbers[i] == 0:\n",
    "                numOfZero += 1\n",
    "        if numOfZero == 4:\n",
    "            return True\n",
    "        small = numOfZero\n",
    "        big = small +1\n",
    "        while big < length:\n",
    "            if numbers[small] == numbers[big]:\n",
    "                return False\n",
    "            numGap += numbers[big] - numbers[small] -1\n",
    "            small = big\n",
    "            big += 1\n",
    "        return numOfZero == numGap\n",
    "nums = [0,3,0,0,0]\n",
    "Solution().IsContinuous(nums)\n"
   ]
  },
  {
   "cell_type": "code",
   "execution_count": null,
   "metadata": {},
   "outputs": [],
   "source": []
  }
 ],
 "metadata": {
  "kernelspec": {
   "display_name": "Python 3",
   "language": "python",
   "name": "python3"
  },
  "language_info": {
   "codemirror_mode": {
    "name": "ipython",
    "version": 3
   },
   "file_extension": ".py",
   "mimetype": "text/x-python",
   "name": "python",
   "nbconvert_exporter": "python",
   "pygments_lexer": "ipython3",
   "version": "3.6.4"
  }
 },
 "nbformat": 4,
 "nbformat_minor": 2
}
