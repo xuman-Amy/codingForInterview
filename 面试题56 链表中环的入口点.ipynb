{
 "cells": [
  {
   "cell_type": "code",
   "execution_count": 1,
   "metadata": {},
   "outputs": [],
   "source": [
    "# -*- coding:utf-8 -*-\n",
    "# class ListNode:\n",
    "#     def __init__(self, x):\n",
    "#         self.val = x\n",
    "#         self.next = None\n",
    "class Solution:\n",
    "    def EntryNodeOfLoop(self, pHead):\n",
    "        # write code here\n",
    "        if pHead == None or pHead.next == None or pHead.next.next == None:\n",
    "            return None\n",
    "        fast = pHead\n",
    "        slow = pHead\n",
    "        while fast.next and fast.next.next:\n",
    "            fast = fast.next.next \n",
    "            slow = slow.next \n",
    "            if fast == slow:\n",
    "                break\n",
    "        if slow == fast:\n",
    "            fast = pHead\n",
    "            while fast != slow:\n",
    "                fast = fast.next\n",
    "                slow = slow.next\n",
    "            return slow\n",
    "        return None"
   ]
  },
  {
   "cell_type": "code",
   "execution_count": null,
   "metadata": {},
   "outputs": [],
   "source": [
    "class Solution:\n",
    "    def EntryNodeOfLoop(self, pHead):\n",
    "        # write code here\n",
    "        if not pHead or not pHead.next or not pHead.next.next:\n",
    "            return None\n",
    "        slow = pHead.next\n",
    "        fast = slow.next\n",
    "        # 找到相遇点\n",
    "        while fast != slow and fast.next:\n",
    "            slow = slow.next\n",
    "            fast = fast.next.next\n",
    "        if slow == fast:\n",
    "            # 慢指针回到表头，快指针留在相遇点，二者同步往前直到相遇在入口结点\n",
    "            slow = pHead\n",
    "            while slow != fast:\n",
    "                fast = fast.next\n",
    "                slow = slow.next\n",
    "            return slow\n",
    "        return None\n"
   ]
  }
 ],
 "metadata": {
  "kernelspec": {
   "display_name": "Python 3",
   "language": "python",
   "name": "python3"
  },
  "language_info": {
   "codemirror_mode": {
    "name": "ipython",
    "version": 3
   },
   "file_extension": ".py",
   "mimetype": "text/x-python",
   "name": "python",
   "nbconvert_exporter": "python",
   "pygments_lexer": "ipython3",
   "version": "3.6.4"
  }
 },
 "nbformat": 4,
 "nbformat_minor": 2
}
