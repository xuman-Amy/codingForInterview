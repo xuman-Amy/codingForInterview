{
 "cells": [
  {
   "cell_type": "code",
   "execution_count": 15,
   "metadata": {},
   "outputs": [
    {
     "data": {
      "text/plain": [
       "123"
      ]
     },
     "execution_count": 15,
     "metadata": {},
     "output_type": "execute_result"
    }
   ],
   "source": [
    "# -*- coding:utf-8 -*-\n",
    "class Solution:\n",
    "    def StrToInt(self, s):\n",
    "        # write code here\n",
    "        if s == '':\n",
    "            return 0\n",
    "        if s== '+' or s== '-':\n",
    "            return 0\n",
    "        sign = -1 if s[0] == '-' else 1\n",
    "        if s[0] in ['+', '-']:\n",
    "            s = s[1:]\n",
    "        if not s[0].isdigit():\n",
    "            return 0\n",
    "     \n",
    "        res = 0\n",
    "        i = 0\n",
    "        \n",
    "        for i in range(len(s)):\n",
    "            if s[i].isdigit():\n",
    "                res = res * 10 + (ord(s[i]) - ord('0'))\n",
    "            else:\n",
    "                return 0\n",
    "        return min(2 **31 -1,max(-2 ** 31,sign * res))\n",
    "Solution().StrToInt('+123')"
   ]
  },
  {
   "cell_type": "code",
   "execution_count": null,
   "metadata": {},
   "outputs": [],
   "source": []
  }
 ],
 "metadata": {
  "kernelspec": {
   "display_name": "Python 3",
   "language": "python",
   "name": "python3"
  },
  "language_info": {
   "codemirror_mode": {
    "name": "ipython",
    "version": 3
   },
   "file_extension": ".py",
   "mimetype": "text/x-python",
   "name": "python",
   "nbconvert_exporter": "python",
   "pygments_lexer": "ipython3",
   "version": "3.6.4"
  }
 },
 "nbformat": 4,
 "nbformat_minor": 2
}
