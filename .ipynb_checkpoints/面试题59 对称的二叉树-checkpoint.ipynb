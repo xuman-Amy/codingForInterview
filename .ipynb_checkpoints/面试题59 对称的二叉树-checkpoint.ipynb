{
 "cells": [
  {
   "cell_type": "code",
   "execution_count": null,
   "metadata": {},
   "outputs": [],
   "source": [
    "# -*- coding:utf-8 -*-\n",
    "# class TreeNode:\n",
    "#     def __init__(self, x):\n",
    "#         self.val = x\n",
    "#         self.left = None\n",
    "#         self.right = None\n",
    "class Solution:\n",
    "    def isSymmetrical(self, pRoot):\n",
    "        # write code here\n",
    "        if pRoot == None:\n",
    "            return True\n",
    "        return self.Helper(pRoot, pRoot)\n",
    "    def Helper(self, t1, t2):\n",
    "        if t1 == None and t2 == None:\n",
    "            return True\n",
    "        if t1 == None or t2 ==  None:\n",
    "            return False\n",
    "        if t1.val != t2.val:\n",
    "            return False\n",
    "        return self.Helper(t1.left, t2.right) and self.Helper(t1.left, t2.right)"
   ]
  }
 ],
 "metadata": {
  "kernelspec": {
   "display_name": "Python 3",
   "language": "python",
   "name": "python3"
  },
  "language_info": {
   "codemirror_mode": {
    "name": "ipython",
    "version": 3
   },
   "file_extension": ".py",
   "mimetype": "text/x-python",
   "name": "python",
   "nbconvert_exporter": "python",
   "pygments_lexer": "ipython3",
   "version": "3.6.4"
  }
 },
 "nbformat": 4,
 "nbformat_minor": 2
}
