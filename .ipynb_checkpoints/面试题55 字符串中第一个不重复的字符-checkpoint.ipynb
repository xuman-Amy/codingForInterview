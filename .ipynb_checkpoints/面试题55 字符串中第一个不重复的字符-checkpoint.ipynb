{
 "cells": [
  {
   "cell_type": "code",
   "execution_count": 3,
   "metadata": {},
   "outputs": [],
   "source": [
    "# -*- coding:utf-8 -*-\n",
    "class Solution:\n",
    "    # 返回对应char\n",
    "    def __init__(self):\n",
    "        self.s = ''\n",
    "        self.dic = {}\n",
    "        \n",
    "    def FirstAppearingOnce(self):\n",
    "        # write code here\n",
    "        for c in self.s:\n",
    "            if self.dic[c] == 1:\n",
    "                return c\n",
    "        return '#'\n",
    "    def Insert(self, char):\n",
    "        # write code here\n",
    "        self.s += char\n",
    "        if char not in self.dic:\n",
    "            self.dic[char] = 1\n",
    "        else:\n",
    "            self.dic[char] += 1\n",
    "        "
   ]
  },
  {
   "cell_type": "code",
   "execution_count": null,
   "metadata": {},
   "outputs": [],
   "source": []
  }
 ],
 "metadata": {
  "kernelspec": {
   "display_name": "Python 3",
   "language": "python",
   "name": "python3"
  },
  "language_info": {
   "codemirror_mode": {
    "name": "ipython",
    "version": 3
   },
   "file_extension": ".py",
   "mimetype": "text/x-python",
   "name": "python",
   "nbconvert_exporter": "python",
   "pygments_lexer": "ipython3",
   "version": "3.6.4"
  }
 },
 "nbformat": 4,
 "nbformat_minor": 2
}
