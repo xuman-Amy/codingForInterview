{
 "cells": [
  {
   "cell_type": "code",
   "execution_count": 2,
   "metadata": {},
   "outputs": [
    {
     "data": {
      "text/plain": [
       "[1, 7, 3, 4, 5, 6, 2]"
      ]
     },
     "execution_count": 2,
     "metadata": {},
     "output_type": "execute_result"
    }
   ],
   "source": [
    "class ReorderOddEven(object):\n",
    "    def reorderOddEven(self, nums):\n",
    "        if nums == []:\n",
    "            return None\n",
    "        if len(nums) == 1:\n",
    "            return nums\n",
    "        left = 0\n",
    "        right = len(nums)-1\n",
    "        while left < right:\n",
    "#             左边是奇数，右移\n",
    "            if nums[left] & 0x1 == 1:\n",
    "                left += 1\n",
    "            if nums[right] & 0x1 == 0:\n",
    "                right -= 1\n",
    "            if nums[left] & 0x1 == 0 and nums[right] & 0x1 == 1:\n",
    "                nums[left], nums[right] = nums[right], nums[left]\n",
    "        return nums\n",
    "    def isEven(num):\n",
    "        return  (n & 0x1 == 0)\n",
    "nums = [1,2,3,4,5,6,7]\n",
    "ReorderOddEven().reorderOddEven(nums)"
   ]
  },
  {
   "cell_type": "code",
   "execution_count": 20,
   "metadata": {},
   "outputs": [
    {
     "data": {
      "text/plain": [
       "[1, 7, 3, 4, 5, 6, 2]"
      ]
     },
     "execution_count": 20,
     "metadata": {},
     "output_type": "execute_result"
    }
   ],
   "source": [
    "class ReorderOddEven(object):\n",
    "    def reorderOddEven(self, nums):\n",
    "        if nums == []:\n",
    "            return None\n",
    "        if len(nums) == 1:\n",
    "            return nums\n",
    "        \n",
    "        left = 0\n",
    "        right = len(nums)-1\n",
    "        while left < right:\n",
    "#             左边是奇数，右移\n",
    "            if not self.isEven(nums[left]):\n",
    "                left += 1\n",
    "            if self.isEven(nums[right]):\n",
    "#                 print(nums[right])\n",
    "                right -= 1\n",
    "            if  self.isEven(nums[left]) and not self.isEven(nums[right]):\n",
    "                nums[left], nums[right] = nums[right], nums[left]\n",
    "        return nums\n",
    "    \n",
    "    def isEven(self, num):\n",
    "        return True if (num & 0x1 == 0) else False\n",
    "    \n",
    "nums = [1,2,3,4,5,6,7]\n",
    "ReorderOddEven().reorderOddEven(nums)"
   ]
  },
  {
   "cell_type": "code",
   "execution_count": 17,
   "metadata": {},
   "outputs": [
    {
     "data": {
      "text/plain": [
       "False"
      ]
     },
     "execution_count": 17,
     "metadata": {},
     "output_type": "execute_result"
    }
   ],
   "source": [
    "def isEven( num):\n",
    "        return   (num & 0x1 == 0)\n",
    "isEven(7)"
   ]
  },
  {
   "cell_type": "code",
   "execution_count": null,
   "metadata": {},
   "outputs": [],
   "source": []
  }
 ],
 "metadata": {
  "kernelspec": {
   "display_name": "Python 3",
   "language": "python",
   "name": "python3"
  },
  "language_info": {
   "codemirror_mode": {
    "name": "ipython",
    "version": 3
   },
   "file_extension": ".py",
   "mimetype": "text/x-python",
   "name": "python",
   "nbconvert_exporter": "python",
   "pygments_lexer": "ipython3",
   "version": "3.6.4"
  }
 },
 "nbformat": 4,
 "nbformat_minor": 2
}
