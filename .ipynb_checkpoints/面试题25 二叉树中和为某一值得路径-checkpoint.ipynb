{
 "cells": [
  {
   "cell_type": "code",
   "execution_count": null,
   "metadata": {},
   "outputs": [],
   "source": [
    "# -*- coding:utf-8 -*-\n",
    "# class TreeNode:\n",
    "#     def __init__(self, x):\n",
    "#         self.val = x\n",
    "#         self.left = None\n",
    "#         self.right = None\n",
    "class Solution:\n",
    "    # 返回二维列表，内部每个列表表示找到的路径\n",
    "    def FindPath(self, root, expectNumber):\n",
    "        if root == None:\n",
    "            return []\n",
    "        path = []\n",
    "        res = []\n",
    "        self.findPathHelper(root, expectNumber, path, res)\n",
    "        return res\n",
    "    def findPathHelper(self, root, expectNumber, path, res):\n",
    "        if root == None:\n",
    "            return \n",
    "        path.append(root.val)\n",
    "#         如果是叶子节点，且二者相等则返回结果\n",
    "        isLeaf = (root.left ==None and root.right == None)\n",
    "        if root.val == expectNumber and isLeaf:\n",
    "            res.append(path[:])\n",
    "#         如果不是叶子节点，继续左右节点的遍历\n",
    "        if root.left:\n",
    "            self.findPathHelper(root.left, expectNumber - root.val, path, res)\n",
    "        if root.right:\n",
    "            self.findPathHelper(root.right, expectNumber - root.val, path, res)\n",
    "        path.pop()\n"
   ]
  },
  {
   "cell_type": "code",
   "execution_count": 2,
   "metadata": {},
   "outputs": [],
   "source": [
    "# 递归思想\n",
    "# -*- coding:utf-8 -*-\n",
    "# class TreeNode:\n",
    "#     def __init__(self, x):\n",
    "#         self.val = x\n",
    "#         self.left = None\n",
    "#         self.right = None\n",
    "class Solution:\n",
    "    # 返回二维列表，内部每个列表表示找到的路径\n",
    "    def FindPath(self, root, expectNumber):\n",
    "        res = []\n",
    "        if root == None:\n",
    "            return res\n",
    "        \n",
    "        if root.left ==None and root.right == None and root.val == expectNumber:\n",
    "            return [[root.val]]\n",
    "        else:\n",
    "            left = self.FindPath(root.left, expectNumber-root.val)\n",
    "            right = self.FindPath(root.right, expectNumber - root.val)\n",
    "#             左右返回的是个[[结果]]\n",
    "            for item in left + right:\n",
    "                res.append([root.val]+item)\n",
    "        return res"
   ]
  },
  {
   "cell_type": "code",
   "execution_count": null,
   "metadata": {},
   "outputs": [],
   "source": [
    "class Solution:\n",
    "    # 返回二维列表，内部每个列表表示找到的路径\n",
    "    def FindPath(self, root, expectNumber):\n",
    "        if root == None:\n",
    "            return []\n",
    "        res = []\n",
    "        path = []\n",
    "        self.Find(root, expectNumber, res, path)\n",
    "        return res\n",
    "    def Find(self, root, expectNumber, res, path):\n",
    "        if root ==  None:\n",
    "            return \n",
    "        path.append(root.val)\n",
    "        if root.val == expectNumber and (root.left == None and root.right == None):\n",
    "#           必须死path[:]\n",
    "            res.append(path[:])\n",
    "        if root.left:\n",
    "            self.Find( root.left, expectNumber - root.val,res, path)\n",
    "        if root.right:\n",
    "            self.Find( root.right,expectNumber- root.val ,res, path)\n",
    "        path.pop()"
   ]
  }
 ],
 "metadata": {
  "kernelspec": {
   "display_name": "Python 3",
   "language": "python",
   "name": "python3"
  },
  "language_info": {
   "codemirror_mode": {
    "name": "ipython",
    "version": 3
   },
   "file_extension": ".py",
   "mimetype": "text/x-python",
   "name": "python",
   "nbconvert_exporter": "python",
   "pygments_lexer": "ipython3",
   "version": "3.6.4"
  }
 },
 "nbformat": 4,
 "nbformat_minor": 2
}
