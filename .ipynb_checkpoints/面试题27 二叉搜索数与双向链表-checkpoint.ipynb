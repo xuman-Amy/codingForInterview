{
 "cells": [
  {
   "cell_type": "code",
   "execution_count": 1,
   "metadata": {},
   "outputs": [],
   "source": [
    "# -*- coding:utf-8 -*-\n",
    "# class TreeNode:\n",
    "#     def __init__(self, x):\n",
    "#         self.val = x\n",
    "#         self.left = None\n",
    "#         self.right = None\n",
    "class Solution:\n",
    "    def Convert(self, pRootOfTree):\n",
    "        # write code here\n",
    "        if pRootOfTree == None:\n",
    "            return pRootOfTree\n",
    "        if pRootOfTree.left == None and pRootOfTree.right == None:\n",
    "            return pRootOfTree\n",
    "#         转换左子数\n",
    "        pRoself.Convert(pRootOfTree.left)\n",
    "        left = pRootOfTree.left\n",
    "        if left != None:\n",
    "            while left.right:\n",
    "                left = left.right\n",
    "            pRootOfTree.left,left.right = left, pRootOfTree\n",
    "#         转换右子树\n",
    "        self.Convert(pRootOfTree.right)\n",
    "        right = pRootOfTree.right\n",
    "        \n",
    "        if right:\n",
    "            while right.left:\n",
    "                right = right.left\n",
    "            pRootOfTree.right,right.left = right, pRootOfTree\n",
    "        while pRootOfTree.left:\n",
    "            pRootOfTree = pRootOfTree.left\n",
    "        return pRootOfTree\n",
    "        "
   ]
  },
  {
   "cell_type": "code",
   "execution_count": null,
   "metadata": {},
   "outputs": [],
   "source": []
  }
 ],
 "metadata": {
  "kernelspec": {
   "display_name": "Python 3",
   "language": "python",
   "name": "python3"
  },
  "language_info": {
   "codemirror_mode": {
    "name": "ipython",
    "version": 3
   },
   "file_extension": ".py",
   "mimetype": "text/x-python",
   "name": "python",
   "nbconvert_exporter": "python",
   "pygments_lexer": "ipython3",
   "version": "3.6.4"
  }
 },
 "nbformat": 4,
 "nbformat_minor": 2
}
