{
 "cells": [
  {
   "cell_type": "code",
   "execution_count": 1,
   "metadata": {},
   "outputs": [],
   "source": [
    "class Solution(object):\n",
    "    def spiralOrder(self, matrix):\n",
    "        \"\"\"\n",
    "        :type matrix: List[List[int]]\n",
    "        :rtype: List[int]\n",
    "        \"\"\"\n",
    "        def spiral_index(r1,c1,r2,c2):\n",
    "#             top left2right\n",
    "            for c in range(c1,c2+1):\n",
    "                yield r1, c\n",
    "#             right top2bottom\n",
    "            for r in range(r1+1, r2+1):\n",
    "                yield r, c2\n",
    "            if r1 < r2 and c1 < c2:\n",
    "#                 bottom right2left\n",
    "                for c in range(c2-1, c1, -1):\n",
    "                    yield r2, c\n",
    "#             left bottom2top\n",
    "                for r in range(r2, r1, -1):\n",
    "                    yield r, c1\n",
    "        if matrix == None :\n",
    "            return None\n",
    "        ans = []\n",
    "        r1, r2 = 0, len(matrix)-1\n",
    "        c1, c2 = 0, len(matrix[0])-1\n",
    "        while r1 <= r2 and c1 <= c2:\n",
    "            for r, c in spiral_index(r1, c1, r2, c2):\n",
    "                ans.append(matrix[r][c])\n",
    "                r1 += 1\n",
    "                r2 -= 1\n",
    "                c1 += 1\n",
    "                c2 -= 1\n",
    "        return ans"
   ]
  },
  {
   "cell_type": "code",
   "execution_count": null,
   "metadata": {},
   "outputs": [],
   "source": []
  },
  {
   "cell_type": "code",
   "execution_count": null,
   "metadata": {},
   "outputs": [],
   "source": []
  }
 ],
 "metadata": {
  "kernelspec": {
   "display_name": "Python 3",
   "language": "python",
   "name": "python3"
  },
  "language_info": {
   "codemirror_mode": {
    "name": "ipython",
    "version": 3
   },
   "file_extension": ".py",
   "mimetype": "text/x-python",
   "name": "python",
   "nbconvert_exporter": "python",
   "pygments_lexer": "ipython3",
   "version": "3.6.4"
  }
 },
 "nbformat": 4,
 "nbformat_minor": 2
}
