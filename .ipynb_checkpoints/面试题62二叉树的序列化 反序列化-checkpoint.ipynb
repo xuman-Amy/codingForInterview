{
 "cells": [
  {
   "cell_type": "code",
   "execution_count": 9,
   "metadata": {},
   "outputs": [],
   "source": [
    "#-*- coding:utf-8 -*-\n",
    "class TreeNode:\n",
    "    def __init__(self, x):\n",
    "        self.val = x\n",
    "        self.left = None\n",
    "        self.right = None\n",
    "class Solution:\n",
    "    def Serialize(self, root):\n",
    "        # write code here\n",
    "        if root == None:\n",
    "            return '#'\n",
    "        return str(root.val) + ',' + self.Serialize(root.left) + ','+ self.Serialize(root.right)\n",
    "    \n",
    "    def Deserialize(self, s):\n",
    "        # write code here\n",
    "        lis = s.split(',')\n",
    "        return self.DeserializeTree(lis)\n",
    "    def DeserializeTree(self, lis):\n",
    "        if lis == []:\n",
    "            return None\n",
    "        val = lis.pop(0)\n",
    "        root = None\n",
    "        if val != '#':\n",
    "            root = TreeNode(int(val))\n",
    "            root.left = self.DeserializeTree(lis)\n",
    "            root.right = self.DeserializeTree(lis)\n",
    "        return root"
   ]
  },
  {
   "cell_type": "code",
   "execution_count": 12,
   "metadata": {},
   "outputs": [
    {
     "data": {
      "text/plain": [
       "'8,6,10,5,7,9,11,#,#,#,#,#,#,#,#'"
      ]
     },
     "execution_count": 12,
     "metadata": {},
     "output_type": "execute_result"
    }
   ],
   "source": [
    "s = \"8,6,10,5,7,9,11\"\n",
    "root = Solution().Deserialize(s)\n",
    "s = Solution().Serialize(root)\n",
    "s"
   ]
  },
  {
   "cell_type": "code",
   "execution_count": null,
   "metadata": {},
   "outputs": [],
   "source": []
  }
 ],
 "metadata": {
  "kernelspec": {
   "display_name": "Python 3",
   "language": "python",
   "name": "python3"
  },
  "language_info": {
   "codemirror_mode": {
    "name": "ipython",
    "version": 3
   },
   "file_extension": ".py",
   "mimetype": "text/x-python",
   "name": "python",
   "nbconvert_exporter": "python",
   "pygments_lexer": "ipython3",
   "version": "3.6.4"
  }
 },
 "nbformat": 4,
 "nbformat_minor": 2
}
