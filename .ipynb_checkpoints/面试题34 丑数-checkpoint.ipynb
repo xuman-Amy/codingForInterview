{
 "cells": [
  {
   "cell_type": "code",
   "execution_count": 3,
   "metadata": {},
   "outputs": [],
   "source": [
    "# -*- coding:utf-8 -*-\n",
    "class Solution:\n",
    "    def GetUglyNumber_Solution(self, index):\n",
    "        if index == None or index == 0:\n",
    "            return None\n",
    "        # write code here\n",
    "        unum[0] = 1\n",
    "        nextidx = 1\n",
    "        temp = 1\n",
    "        t2,t3,t5 = 0, 0, 0\n",
    "        while temp < index:\n",
    "            minNum = min(unum[t2]* 2 , unum[t3] * 3, unum[t5] * 5)\n",
    "            unum.append(minNum)\n",
    "            if unum[t2]*2 < minNum\n",
    "                t2 += 1\n",
    "            if unum[t3]*2 < minNum\n",
    "                t3 += 1\n",
    "            if unum[t5]*2 < minNum:\n",
    "                t5 += 1\n",
    "            temp += 1\n",
    "        return unum[-1]\n",
    "        \n"
   ]
  },
  {
   "cell_type": "code",
   "execution_count": null,
   "metadata": {},
   "outputs": [],
   "source": []
  }
 ],
 "metadata": {
  "kernelspec": {
   "display_name": "Python 3",
   "language": "python",
   "name": "python3"
  },
  "language_info": {
   "codemirror_mode": {
    "name": "ipython",
    "version": 3
   },
   "file_extension": ".py",
   "mimetype": "text/x-python",
   "name": "python",
   "nbconvert_exporter": "python",
   "pygments_lexer": "ipython3",
   "version": "3.6.4"
  }
 },
 "nbformat": 4,
 "nbformat_minor": 2
}
