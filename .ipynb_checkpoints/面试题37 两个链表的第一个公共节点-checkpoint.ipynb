{
 "cells": [
  {
   "cell_type": "code",
   "execution_count": 2,
   "metadata": {},
   "outputs": [],
   "source": [
    "# -*- coding:utf-8 -*-\n",
    "# class ListNode:\n",
    "#     def __init__(self, x):\n",
    "#         self.val = x\n",
    "#         self.next = None\n",
    "class Solution:\n",
    "    def FindFirstCommonNode(self, pHead1, pHead2):\n",
    "#         if pHead1 == None or pHead2 == None:\n",
    "#             return None\n",
    "        \n",
    "        \n",
    "        \n",
    "        len1 = self.getLength(pHead1)\n",
    "        len2 = self.getLength(pHead2)\n",
    "        \n",
    "        pheadlong = pHead1\n",
    "        pheadshort = pHead2\n",
    "        ndif = abs(len1 -len2)\n",
    "        \n",
    "        if len2 > len1:\n",
    "            pheadlong = pHead2\n",
    "            pheadshort = pHead1\n",
    "            \n",
    "        while ndif >= 0:\n",
    "            pheadlong = pheadlong.next\n",
    "            ndif -= 1\n",
    "            \n",
    "        while (pheadlong != None )and (pheadshort != None) and (pheadlong != pheadshort):\n",
    "            pheadlong = pheadlong.next\n",
    "            pheadshort = pheadshort.next\n",
    "        pres = pheadlong\n",
    "        return pres\n",
    "        \n",
    "    def getLength(self,head):\n",
    "        length = 0\n",
    "        pnode = head\n",
    "        while pnode != None:\n",
    "            length += 1\n",
    "            pnode = pnode.next\n",
    "        return length\n",
    " "
   ]
  },
  {
   "cell_type": "code",
   "execution_count": null,
   "metadata": {},
   "outputs": [],
   "source": [
    "class Solution:\n",
    "    def FindFirstCommonNode(self, pHead1, pHead2):\n",
    "         "
   ]
  }
 ],
 "metadata": {
  "kernelspec": {
   "display_name": "Python 3",
   "language": "python",
   "name": "python3"
  },
  "language_info": {
   "codemirror_mode": {
    "name": "ipython",
    "version": 3
   },
   "file_extension": ".py",
   "mimetype": "text/x-python",
   "name": "python",
   "nbconvert_exporter": "python",
   "pygments_lexer": "ipython3",
   "version": "3.6.4"
  }
 },
 "nbformat": 4,
 "nbformat_minor": 2
}
