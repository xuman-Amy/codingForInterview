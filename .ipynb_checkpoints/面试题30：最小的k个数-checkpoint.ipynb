{
 "cells": [
  {
   "cell_type": "code",
   "execution_count": 19,
   "metadata": {},
   "outputs": [
    {
     "data": {
      "text/plain": [
       "[1, 2, 3, 4, 5, 6, 7, 8]"
      ]
     },
     "execution_count": 19,
     "metadata": {},
     "output_type": "execute_result"
    }
   ],
   "source": [
    "# -*- coding:utf-8 -*-\n",
    "class Solution:\n",
    "    def GetLeastNumbers_Solution(self, tinput, k):\n",
    "        # write code here\n",
    "        if k <= 0 or k >len(tinput):\n",
    "            return []\n",
    "        if k == len(nums):\n",
    "            return self.quickSort(nums,0,k-1)\n",
    "        if tinput == []:\n",
    "            return []\n",
    "        begin = 0\n",
    "        end = len(tinput)-1\n",
    "        while True:\n",
    "            index = self.Partition(tinput, begin, end)\n",
    "            if index == k:\n",
    "                res = tinput[:index]\n",
    "                break\n",
    "            if index > k:\n",
    "                end = index -1\n",
    "            else:\n",
    "                begin = index +1\n",
    "        res = self.quickSort(res, 0, len(res)-1)\n",
    "        return res\n",
    "    def Partition(self, nums, begin, end):\n",
    "        left = begin +1\n",
    "        right = end\n",
    "        while left <= right:\n",
    "            if nums[left] > nums[begin] and nums[right] < nums[begin]:\n",
    "                nums[left], nums[right] = nums[right], nums[left]\n",
    "            if nums[left] <= nums[begin]:\n",
    "                left += 1\n",
    "            if nums[right] >= nums[begin]:\n",
    "                right -= 1\n",
    "        nums[begin], nums[right] = nums[right], nums[begin]\n",
    "        return right\n",
    "    def quickSort(self, nums, left , right ):\n",
    "        if left < right:\n",
    "            index = self.Partition(nums, left, right)\n",
    "            self.quickSort(nums, left, index-1)\n",
    "            self.quickSort(nums, index+1, right)\n",
    "        return nums\n",
    "    \n",
    "nums = [4,5,1,6,2,7,3,8]\n",
    "Solution().GetLeastNumbers_Solution(nums,8)"
   ]
  },
  {
   "cell_type": "code",
   "execution_count": 56,
   "metadata": {},
   "outputs": [
    {
     "data": {
      "text/plain": [
       "[1, 2, 3]"
      ]
     },
     "execution_count": 56,
     "metadata": {},
     "output_type": "execute_result"
    }
   ],
   "source": [
    "# 最大堆 实现\n",
    "import heapq\n",
    "class Solution:\n",
    "    def GetLeastNumbers_Solution(self, tinput, k):\n",
    "        nums = [num for num in tinput]\n",
    "        heapq.heapify(nums)\n",
    "        res = []\n",
    "        for _ in range(k):\n",
    "            res.append(heapq.heappop(nums))\n",
    "        return res\n",
    "nums = [4,5,1,6,2,7,3,8]\n",
    "Solution().GetLeastNumbers_Solution(nums,3)"
   ]
  },
  {
   "cell_type": "code",
   "execution_count": 20,
   "metadata": {},
   "outputs": [],
   "source": []
  },
  {
   "cell_type": "code",
   "execution_count": 70,
   "metadata": {},
   "outputs": [
    {
     "name": "stdout",
     "output_type": "stream",
     "text": [
      "kth largest num is [83, 59, 42]\n"
     ]
    }
   ],
   "source": [
    "# 最大的k个数\n",
    "class FindKthLargestNum_maxHeap():\n",
    "    def buildHeap(self,nums):\n",
    "        if nums == []:\n",
    "            return None\n",
    "        size = len(nums)\n",
    "        for i in range(size//2-1, -1,-1):\n",
    "            self.shiftdown(nums, i, size)\n",
    "        return nums\n",
    "\n",
    "    def shiftdown(self, nums, i, size):\n",
    "        left = 2*i +1\n",
    "        right = 2*i +2\n",
    "        maxIndex = i\n",
    "        if left < size and nums[left] > nums[maxIndex]:\n",
    "            maxIndex = left\n",
    "        if right < size and nums[right] > nums[maxIndex]:\n",
    "            maxIndex = right\n",
    "        if maxIndex != i:\n",
    "            nums[maxIndex], nums[i] = nums[i], nums[maxIndex]\n",
    "            self.shiftdown(nums, maxIndex,size)\n",
    "        return nums\n",
    "\n",
    "    def findKthLargestNum(self,nums, k):\n",
    "        self.buildHeap(nums)\n",
    "        for i in range(len(nums)-1, len(nums)-k-1, -1):\n",
    "            nums[i] , nums[0] = nums[0], nums[i]\n",
    "            self.shiftdown(nums, 0, i)\n",
    "        return nums[-k:][::-1]\n",
    "if __name__ == '__main__':\n",
    "    a = [21,42,59,83,20,25,16]\n",
    "    k = 3\n",
    "    res = FindKthLargestNum_maxHeap().findKthLargestNum(a, k)\n",
    "    print('kth largest num is',res)"
   ]
  },
  {
   "cell_type": "code",
   "execution_count": 81,
   "metadata": {},
   "outputs": [
    {
     "name": "stdout",
     "output_type": "stream",
     "text": [
      "kth largest num is [25, 16]\n"
     ]
    }
   ],
   "source": [
    "# 最小的k个数\n",
    "class FindKthLargestNum_maxHeap():\n",
    "    def buildHeap(self,nums):\n",
    "        if nums == []:\n",
    "            return None\n",
    "        size = len(nums)\n",
    "        for i in range(size//2-1, -1,-1):\n",
    "            self.shiftdown(nums, i, size)\n",
    "        return nums\n",
    "\n",
    "    def shiftdown(self, nums, i, size):\n",
    "        left = 2*i +1\n",
    "        right = 2*i +2\n",
    "        maxIndex = i\n",
    "        if left < size and nums[left] > nums[maxIndex]:\n",
    "            maxIndex = left\n",
    "        if right < size and nums[right] > nums[maxIndex]:\n",
    "            maxIndex = right\n",
    "        if maxIndex != i:\n",
    "            nums[maxIndex], nums[i] = nums[i], nums[maxIndex]\n",
    "            self.shiftdown(nums, maxIndex,ssize)\n",
    "        return nums\n",
    "\n",
    "    def findKthLargestNum(self,nums, k):\n",
    "        self.buildHeap(nums)\n",
    "        for i in range(len(nums)-1, len(nums)-k -1):\n",
    "            nums[i] , nums[0] = nums[0], nums[i]\n",
    "            self.shiftdown(nums, 0, i)\n",
    "        return nums[-k:]\n",
    "if __name__ == '__main__':\n",
    "    a = [21,42,59,83,20,25,16]\n",
    "    k = 2\n",
    "    res = FindKthLargestNum_maxHeap().findKthLargestNum(a, k)\n",
    "    print('kth largest num is',res)"
   ]
  },
  {
   "cell_type": "code",
   "execution_count": null,
   "metadata": {},
   "outputs": [],
   "source": []
  }
 ],
 "metadata": {
  "kernelspec": {
   "display_name": "Python 3",
   "language": "python",
   "name": "python3"
  },
  "language_info": {
   "codemirror_mode": {
    "name": "ipython",
    "version": 3
   },
   "file_extension": ".py",
   "mimetype": "text/x-python",
   "name": "python",
   "nbconvert_exporter": "python",
   "pygments_lexer": "ipython3",
   "version": "3.6.4"
  }
 },
 "nbformat": 4,
 "nbformat_minor": 2
}
