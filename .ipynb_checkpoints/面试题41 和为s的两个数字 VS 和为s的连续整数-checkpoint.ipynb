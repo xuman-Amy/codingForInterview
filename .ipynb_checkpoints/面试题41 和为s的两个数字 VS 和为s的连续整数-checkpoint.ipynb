{
 "cells": [
  {
   "cell_type": "code",
   "execution_count": 3,
   "metadata": {},
   "outputs": [
    {
     "data": {
      "text/plain": [
       "[4, 11]"
      ]
     },
     "execution_count": 3,
     "metadata": {},
     "output_type": "execute_result"
    }
   ],
   "source": [
    "# -*- coding:utf-8 -*-\n",
    "class Solution:\n",
    "    def FindContinuousSequence(self, data, tsum):\n",
    "        if data == []:\n",
    "            return None\n",
    "        left = 0\n",
    "        right = len(data) -1\n",
    "        while left < right:\n",
    "            cursum =  data[left] + data[right]\n",
    "            if  cursum == tsum:\n",
    "                return [data[left],data[right]]\n",
    "            elif cursum <tsum:\n",
    "                left += 1\n",
    "            else:\n",
    "                right -= 1\n",
    "nums = [1,2,4,7,11]\n",
    "Solution().FindContinuousSequence(nums,15)"
   ]
  },
  {
   "cell_type": "code",
   "execution_count": null,
   "metadata": {},
   "outputs": [],
   "source": []
  }
 ],
 "metadata": {
  "kernelspec": {
   "display_name": "Python 3",
   "language": "python",
   "name": "python3"
  },
  "language_info": {
   "codemirror_mode": {
    "name": "ipython",
    "version": 3
   },
   "file_extension": ".py",
   "mimetype": "text/x-python",
   "name": "python",
   "nbconvert_exporter": "python",
   "pygments_lexer": "ipython3",
   "version": "3.6.4"
  }
 },
 "nbformat": 4,
 "nbformat_minor": 2
}
