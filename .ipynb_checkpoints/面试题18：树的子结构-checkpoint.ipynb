{
 "cells": [
  {
   "cell_type": "code",
   "execution_count": 2,
   "metadata": {},
   "outputs": [],
   "source": [
    "class Solution:\n",
    "    def HasSubtree(self, pRoot1, pRoot2):\n",
    "        # write code here\n",
    "        if not pRoot1 or not pRoot2:\n",
    "            return False\n",
    "        return self.is_subtree(pRoot1, pRoot2) or self.HasSubtree(pRoot1.left, pRoot2) or self.HasSubtree(pRoot1.right, pRoot2)\n",
    "     \n",
    "    def is_subtree(self, A, B):\n",
    "        if not B:\n",
    "            return True\n",
    "        if not A or A.val != B.val:\n",
    "            return False\n",
    "        return self.is_subtree(A.left,B.left) and self.is_subtree(A.right, B.right)"
   ]
  },
  {
   "cell_type": "code",
   "execution_count": 4,
   "metadata": {},
   "outputs": [],
   "source": [
    "\n",
    "class Solution(object):\n",
    "    def HasSubtree(self, pRoot1, pRoot2):\n",
    "        if not pRoot1 or not pRoot2:\n",
    "            return False\n",
    "        return self.helper(pRoot1,pRoot2) or self.HasSubtree(pRoot1.left, pRoot2) or self.HasSubtree(pRoot1.right,pRoot2)\n",
    "    def helper(self,s , t):\n",
    "        if not t:\n",
    "            return True\n",
    "        if not s or s.val != t.val:\n",
    "            return False\n",
    "        return self.helper(s.left, t.left) and self.helper(s.right, t.right)\n",
    "        "
   ]
  },
  {
   "cell_type": "code",
   "execution_count": 5,
   "metadata": {},
   "outputs": [],
   "source": [
    "\n",
    "class Solution(object):\n",
    "    def isSubtree(self, s, t):\n",
    "        res = False\n",
    "        if s != None and t!= None:\n",
    "            if s.val == t.val:\n",
    "                res = self.helper(s,t)\n",
    "            if not res:\n",
    "                res = self.isSubtree(s.left, t)\n",
    "            if not res:\n",
    "                res = self.isSubtree(s.right, t)\n",
    "                \n",
    "        return res\n",
    "    def helper(self,s,t):\n",
    "        if t == None:\n",
    "            return True\n",
    "        if s == None:\n",
    "            return False\n",
    "        if s.val != t.val:\n",
    "            return False\n",
    "        return self.helper(s.left,t.left) and self.helper(s.right,t.right)\n",
    "        "
   ]
  },
  {
   "cell_type": "code",
   "execution_count": null,
   "metadata": {},
   "outputs": [],
   "source": []
  }
 ],
 "metadata": {
  "kernelspec": {
   "display_name": "Python 3",
   "language": "python",
   "name": "python3"
  },
  "language_info": {
   "codemirror_mode": {
    "name": "ipython",
    "version": 3
   },
   "file_extension": ".py",
   "mimetype": "text/x-python",
   "name": "python",
   "nbconvert_exporter": "python",
   "pygments_lexer": "ipython3",
   "version": "3.6.4"
  }
 },
 "nbformat": 4,
 "nbformat_minor": 2
}
