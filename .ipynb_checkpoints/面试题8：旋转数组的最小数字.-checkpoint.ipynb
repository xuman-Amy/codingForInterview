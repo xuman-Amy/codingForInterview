{
 "cells": [
  {
   "cell_type": "markdown",
   "metadata": {},
   "source": [
    "# leetcode 153 "
   ]
  },
  {
   "cell_type": "code",
   "execution_count": 33,
   "metadata": {},
   "outputs": [
    {
     "data": {
      "text/plain": [
       "1"
      ]
     },
     "execution_count": 33,
     "metadata": {},
     "output_type": "execute_result"
    }
   ],
   "source": [
    "class Solution(object):\n",
    "    def findMin(self, nums):\n",
    "        \"\"\"\n",
    "        :type nums: List[int]\n",
    "        :rtype: int\n",
    "        \"\"\"\n",
    "        if nums == []:\n",
    "            return None\n",
    "        left = 0\n",
    "        right = len(nums)-1\n",
    "        mid = left\n",
    "        while nums[left] >= nums[right]:\n",
    "            if right - left == 1:\n",
    "                mid = right\n",
    "                break\n",
    "            mid = (left + right) //2\n",
    "    #             mid属于左边数列，最小的在mid右边\n",
    "            if nums[mid] >= nums[left]:\n",
    "                left  = mid\n",
    "    #             mid属于右边序列，最小的在mid左边\n",
    "            elif nums[mid] <= nums[right]:\n",
    "                right = mid\n",
    "        return nums[mid]\n",
    "nums = [1,2,3]\n",
    "Solution().findMin(nums)"
   ]
  },
  {
   "cell_type": "markdown",
   "metadata": {},
   "source": [
    "# leetcode 154\n",
    "旋转数组中有重复值"
   ]
  },
  {
   "cell_type": "code",
   "execution_count": 32,
   "metadata": {},
   "outputs": [
    {
     "name": "stdout",
     "output_type": "stream",
     "text": [
      "0 4 0\n",
      "2 4 2\n"
     ]
    },
    {
     "data": {
      "text/plain": [
       "0"
      ]
     },
     "execution_count": 32,
     "metadata": {},
     "output_type": "execute_result"
    }
   ],
   "source": [
    "class Solution(object):\n",
    "    def findMin(self, nums):\n",
    "        \"\"\"\n",
    "        :type nums: List[int]\n",
    "        :rtype: int\n",
    "        \"\"\"\n",
    "        if nums == []: return None\n",
    "        if len(nums) == 1: return nums[0]\n",
    "        \n",
    "        left = 0\n",
    "        right = len(nums)-1\n",
    "        mid = left\n",
    "        \n",
    "        while nums[left] >= nums[right]:\n",
    "            if right - left == 1:\n",
    "                mid = right\n",
    "                break\n",
    "            mid = (left + right) //2\n",
    "            \n",
    "            if nums[left] == nums[right] and nums[mid] == nums[left]:\n",
    "                return self.InorderSearch(nums, left, right)\n",
    "            \n",
    "            if nums[mid] >= nums[left]:\n",
    "                left = mid\n",
    "            elif nums[mid] <= nums[right]:\n",
    "                right = mid\n",
    "        return nums[mid]\n",
    "                \n",
    "    def InorderSearch(self, nums, left, right):\n",
    "        minValue = nums[left]\n",
    "        for x in nums[left:right+1]:\n",
    "            if x < minValue:\n",
    "                minValue = x\n",
    "        return minValue\n",
    "            \n",
    "nums = [2,2,2,0,1]\n",
    "Solution().findMin(nums)"
   ]
  },
  {
   "cell_type": "code",
   "execution_count": 24,
   "metadata": {},
   "outputs": [
    {
     "name": "stdout",
     "output_type": "stream",
     "text": [
      "2\n",
      "3\n",
      "4\n"
     ]
    }
   ],
   "source": [
    "n= [1,2,3,4,5]\n",
    "for x in n[1:4]:\n",
    "    print(x)"
   ]
  },
  {
   "cell_type": "code",
   "execution_count": null,
   "metadata": {},
   "outputs": [],
   "source": []
  }
 ],
 "metadata": {
  "kernelspec": {
   "display_name": "Python 3",
   "language": "python",
   "name": "python3"
  },
  "language_info": {
   "codemirror_mode": {
    "name": "ipython",
    "version": 3
   },
   "file_extension": ".py",
   "mimetype": "text/x-python",
   "name": "python",
   "nbconvert_exporter": "python",
   "pygments_lexer": "ipython3",
   "version": "3.6.4"
  }
 },
 "nbformat": 4,
 "nbformat_minor": 2
}
