{
 "cells": [
  {
   "cell_type": "code",
   "execution_count": 2,
   "metadata": {},
   "outputs": [],
   "source": [
    "# -*- coding:utf-8 -*-\n",
    "# class TreeNode:\n",
    "#     def __init__(self, x):\n",
    "#         self.val = x\n",
    "#         self.left = None\n",
    "#         self.right = None\n",
    "class Solution:\n",
    "    def Print(self, pRoot):\n",
    "        # write code here\n",
    "        if pRoot == None:\n",
    "            return []\n",
    "        stack1 = []\n",
    "        stack2 = []\n",
    "        stack1.append(pRoot)\n",
    "        res = []\n",
    "        while stack1 or stack2:\n",
    "            current = []\n",
    "            while stack1:\n",
    "                root = stack1.pop()\n",
    "                current.append(root.val)\n",
    "                if root.left:\n",
    "                    stack2.append(root.left)\n",
    "                if root.right:\n",
    "                    stack2.append(root.right)\n",
    "            if current:\n",
    "                res.append(current)\n",
    "            current = []\n",
    "            while stack2:\n",
    "                root = stack2.pop()\n",
    "                current.append(root.val)\n",
    "                if root.right:\n",
    "                    stack1.append(root.right)\n",
    "                if root.left:\n",
    "                    stack1.append(root.left)\n",
    "            if current:\n",
    "                res.append(current)\n",
    "        return res"
   ]
  },
  {
   "cell_type": "raw",
   "metadata": {},
   "source": []
  }
 ],
 "metadata": {
  "kernelspec": {
   "display_name": "Python 3",
   "language": "python",
   "name": "python3"
  },
  "language_info": {
   "codemirror_mode": {
    "name": "ipython",
    "version": 3
   },
   "file_extension": ".py",
   "mimetype": "text/x-python",
   "name": "python",
   "nbconvert_exporter": "python",
   "pygments_lexer": "ipython3",
   "version": "3.6.4"
  }
 },
 "nbformat": 4,
 "nbformat_minor": 2
}
