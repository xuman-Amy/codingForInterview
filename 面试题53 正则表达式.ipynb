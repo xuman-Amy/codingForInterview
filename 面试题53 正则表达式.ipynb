{
 "cells": [
  {
   "cell_type": "code",
   "execution_count": null,
   "metadata": {},
   "outputs": [],
   "source": [
    "# -*- coding:utf-8 -*-\n",
    "class Solution:\n",
    "    # s, pattern都是字符串\n",
    "    def match(self, s, pattern):\n",
    "        # write code here\n",
    "        if s == '' and pattern == '':\n",
    "            return True\n",
    "        if s != '' and pattern == '':\n",
    "            return False\n",
    "        if len(pattern) > 1 and pattern[1] == '*':\n",
    "            \n",
    "            # 首字母相同或者pattern第一个为.\n",
    "            if len(s) > 0 and s[0] == pattern[0] or pattern[0] == '.':\n",
    "                return self.match(s, pattern[2:]) \n",
    "                        or self.match(s[1:], pattern[2:]) \n",
    "                        or self.match(s[1:], pattern)\n",
    "            else:\n",
    "                return self.match(s, pattern[2:])\n",
    "            \n",
    "        # 第二个不是*，首字母相同或者pattern[0]为 . \n",
    "        if len(s)> 0 and  (s[0] == pattern[0] or pattern[0] == '.'):\n",
    "            return self.match(s[1:], pattern[1:])\n",
    "        return False\n",
    "        \n",
    "        "
   ]
  },
  {
   "cell_type": "code",
   "execution_count": null,
   "metadata": {},
   "outputs": [],
   "source": []
  }
 ],
 "metadata": {
  "kernelspec": {
   "display_name": "Python 3",
   "language": "python",
   "name": "python3"
  },
  "language_info": {
   "codemirror_mode": {
    "name": "ipython",
    "version": 3
   },
   "file_extension": ".py",
   "mimetype": "text/x-python",
   "name": "python",
   "nbconvert_exporter": "python",
   "pygments_lexer": "ipython3",
   "version": "3.6.4"
  }
 },
 "nbformat": 4,
 "nbformat_minor": 2
}
